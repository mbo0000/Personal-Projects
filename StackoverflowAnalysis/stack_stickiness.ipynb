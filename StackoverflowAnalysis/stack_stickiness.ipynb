{
 "cells": [
  {
   "cell_type": "code",
   "execution_count": 1,
   "id": "ebb19833",
   "metadata": {},
   "outputs": [],
   "source": [
    "import pandas as pd\n",
    "import numpy as np\n",
    "from pandas import DataFrame\n",
    "import os\n",
    "\n",
    "import matplotlib.pyplot as plt\n",
    "from matplotlib.ticker import PercentFormatter\n",
    "import seaborn as sns\n",
    "\n",
    "%matplotlib inline\n",
    "%load_ext google.cloud.bigquery"
   ]
  },
  {
   "cell_type": "code",
   "execution_count": 2,
   "id": "a1d26b3b",
   "metadata": {},
   "outputs": [],
   "source": [
    "from google.cloud import bigquery\n",
    "import glob\n",
    "\n",
    "credential_path = glob.glob(r'../../BQ_Keypath/*.json')\n",
    "client = bigquery.Client.from_service_account_json(credential_path[0])\n",
    "\n",
    "# define helper functions\n",
    "def getQueryAsDF(query):\n",
    "    return client.query(query).result().to_dataframe()\n",
    "\n",
    "def getTableSchema(table):\n",
    "    return client.get_table(table).schema"
   ]
  },
  {
   "cell_type": "markdown",
   "id": "343d3f59",
   "metadata": {},
   "source": [
    "## 1. Let find the average DAU/MAU ratio for product \"stickiness\". \n",
    "- Product \"stickiness\" is defined by how often users engage with a product - [geckoboard](https://www.geckoboard.com/best-practice/kpi-examples/dau-mau-ratio/). \n",
    "- MAU = total unique active users(create a comment, question or an answer to a question) in a given month. \n",
    "- DAU = total unique active users(create a comment, question or an answer to a question)in a given day.\n",
    "- Ratio = DAU/MAU.\n",
    "- Tables: _comments_, _posts_questions_, and _post_answers_ "
   ]
  },
  {
   "cell_type": "code",
   "execution_count": 3,
   "id": "126cd39f",
   "metadata": {},
   "outputs": [
    {
     "data": {
      "text/plain": [
       "[SchemaField('id', 'INTEGER', 'NULLABLE', None, (), None),\n",
       " SchemaField('title', 'STRING', 'NULLABLE', None, (), None),\n",
       " SchemaField('body', 'STRING', 'NULLABLE', None, (), None),\n",
       " SchemaField('accepted_answer_id', 'INTEGER', 'NULLABLE', None, (), None),\n",
       " SchemaField('answer_count', 'INTEGER', 'NULLABLE', None, (), None),\n",
       " SchemaField('comment_count', 'INTEGER', 'NULLABLE', None, (), None),\n",
       " SchemaField('community_owned_date', 'TIMESTAMP', 'NULLABLE', None, (), None),\n",
       " SchemaField('creation_date', 'TIMESTAMP', 'NULLABLE', None, (), None),\n",
       " SchemaField('favorite_count', 'INTEGER', 'NULLABLE', None, (), None),\n",
       " SchemaField('last_activity_date', 'TIMESTAMP', 'NULLABLE', None, (), None),\n",
       " SchemaField('last_edit_date', 'TIMESTAMP', 'NULLABLE', None, (), None),\n",
       " SchemaField('last_editor_display_name', 'STRING', 'NULLABLE', None, (), None),\n",
       " SchemaField('last_editor_user_id', 'INTEGER', 'NULLABLE', None, (), None),\n",
       " SchemaField('owner_display_name', 'STRING', 'NULLABLE', None, (), None),\n",
       " SchemaField('owner_user_id', 'INTEGER', 'NULLABLE', None, (), None),\n",
       " SchemaField('parent_id', 'STRING', 'NULLABLE', None, (), None),\n",
       " SchemaField('post_type_id', 'INTEGER', 'NULLABLE', None, (), None),\n",
       " SchemaField('score', 'INTEGER', 'NULLABLE', None, (), None),\n",
       " SchemaField('tags', 'STRING', 'NULLABLE', None, (), None),\n",
       " SchemaField('view_count', 'INTEGER', 'NULLABLE', None, (), None)]"
      ]
     },
     "execution_count": 3,
     "metadata": {},
     "output_type": "execute_result"
    }
   ],
   "source": [
    "# looking into comments, question and answer tables schema\n",
    "schema = getTableSchema('bigquery-public-data.stackoverflow.posts_questions')\n",
    "schema"
   ]
  },
  {
   "cell_type": "code",
   "execution_count": 4,
   "id": "f2bb27e7",
   "metadata": {},
   "outputs": [
    {
     "data": {
      "text/plain": [
       "[SchemaField('id', 'INTEGER', 'NULLABLE', None, (), None),\n",
       " SchemaField('title', 'STRING', 'NULLABLE', None, (), None),\n",
       " SchemaField('body', 'STRING', 'NULLABLE', None, (), None),\n",
       " SchemaField('accepted_answer_id', 'STRING', 'NULLABLE', None, (), None),\n",
       " SchemaField('answer_count', 'STRING', 'NULLABLE', None, (), None),\n",
       " SchemaField('comment_count', 'INTEGER', 'NULLABLE', None, (), None),\n",
       " SchemaField('community_owned_date', 'TIMESTAMP', 'NULLABLE', None, (), None),\n",
       " SchemaField('creation_date', 'TIMESTAMP', 'NULLABLE', None, (), None),\n",
       " SchemaField('favorite_count', 'STRING', 'NULLABLE', None, (), None),\n",
       " SchemaField('last_activity_date', 'TIMESTAMP', 'NULLABLE', None, (), None),\n",
       " SchemaField('last_edit_date', 'TIMESTAMP', 'NULLABLE', None, (), None),\n",
       " SchemaField('last_editor_display_name', 'STRING', 'NULLABLE', None, (), None),\n",
       " SchemaField('last_editor_user_id', 'INTEGER', 'NULLABLE', None, (), None),\n",
       " SchemaField('owner_display_name', 'STRING', 'NULLABLE', None, (), None),\n",
       " SchemaField('owner_user_id', 'INTEGER', 'NULLABLE', None, (), None),\n",
       " SchemaField('parent_id', 'INTEGER', 'NULLABLE', None, (), None),\n",
       " SchemaField('post_type_id', 'INTEGER', 'NULLABLE', None, (), None),\n",
       " SchemaField('score', 'INTEGER', 'NULLABLE', None, (), None),\n",
       " SchemaField('tags', 'STRING', 'NULLABLE', None, (), None),\n",
       " SchemaField('view_count', 'STRING', 'NULLABLE', None, (), None)]"
      ]
     },
     "execution_count": 4,
     "metadata": {},
     "output_type": "execute_result"
    }
   ],
   "source": [
    "schema = getTableSchema('bigquery-public-data.stackoverflow.posts_answers')\n",
    "schema"
   ]
  },
  {
   "cell_type": "code",
   "execution_count": 5,
   "id": "161b29b9",
   "metadata": {},
   "outputs": [
    {
     "data": {
      "text/plain": [
       "[SchemaField('id', 'INTEGER', 'NULLABLE', None, (), None),\n",
       " SchemaField('text', 'STRING', 'NULLABLE', None, (), None),\n",
       " SchemaField('creation_date', 'TIMESTAMP', 'NULLABLE', None, (), None),\n",
       " SchemaField('post_id', 'INTEGER', 'NULLABLE', None, (), None),\n",
       " SchemaField('user_id', 'INTEGER', 'NULLABLE', None, (), None),\n",
       " SchemaField('user_display_name', 'STRING', 'NULLABLE', None, (), None),\n",
       " SchemaField('score', 'INTEGER', 'NULLABLE', None, (), None)]"
      ]
     },
     "execution_count": 5,
     "metadata": {},
     "output_type": "execute_result"
    }
   ],
   "source": [
    "schema = getTableSchema('bigquery-public-data.stackoverflow.comments')\n",
    "schema"
   ]
  },
  {
   "cell_type": "code",
   "execution_count": 6,
   "id": "c1d6216c-d96a-468b-a5eb-88535a0f6c60",
   "metadata": {},
   "outputs": [
    {
     "data": {
      "text/plain": [
       "[SchemaField('id', 'INTEGER', 'NULLABLE', None, (), None),\n",
       " SchemaField('display_name', 'STRING', 'NULLABLE', None, (), None),\n",
       " SchemaField('about_me', 'STRING', 'NULLABLE', None, (), None),\n",
       " SchemaField('age', 'STRING', 'NULLABLE', None, (), None),\n",
       " SchemaField('creation_date', 'TIMESTAMP', 'NULLABLE', None, (), None),\n",
       " SchemaField('last_access_date', 'TIMESTAMP', 'NULLABLE', None, (), None),\n",
       " SchemaField('location', 'STRING', 'NULLABLE', None, (), None),\n",
       " SchemaField('reputation', 'INTEGER', 'NULLABLE', None, (), None),\n",
       " SchemaField('up_votes', 'INTEGER', 'NULLABLE', None, (), None),\n",
       " SchemaField('down_votes', 'INTEGER', 'NULLABLE', None, (), None),\n",
       " SchemaField('views', 'INTEGER', 'NULLABLE', None, (), None),\n",
       " SchemaField('profile_image_url', 'STRING', 'NULLABLE', None, (), None),\n",
       " SchemaField('website_url', 'STRING', 'NULLABLE', None, (), None)]"
      ]
     },
     "execution_count": 6,
     "metadata": {},
     "output_type": "execute_result"
    }
   ],
   "source": [
    "schema = getTableSchema('bigquery-public-data.stackoverflow.users')\n",
    "schema"
   ]
  },
  {
   "cell_type": "code",
   "execution_count": 13,
   "id": "34f4309f-3c9a-4e45-83c3-ad1353de0609",
   "metadata": {},
   "outputs": [
    {
     "name": "stdout",
     "output_type": "stream",
     "text": [
      "view already exist, skipping\n"
     ]
    }
   ],
   "source": [
    "from google.cloud.exceptions import NotFound\n",
    "\n",
    "# combining tables into a view for quick access later.\n",
    "view_id = \"portfolio-331917.stored_views.active_users\"\n",
    "\n",
    "try:\n",
    "    client.get_table(view_id)\n",
    "    print('view already exist, skipping')\n",
    "except NotFound:\n",
    "    view = bigquery.Table(view_id)\n",
    "    view.view_query = f\"\"\"\n",
    "                        SELECT\n",
    "                            creation_date AS active_date,\n",
    "                            EXTRACT (YEAR FROM creation_date) AS year,\n",
    "                            EXTRACT (MONTH FROM creation_date) AS month,\n",
    "                            owner_user_id\n",
    "                        FROM `bigquery-public-data.stackoverflow.posts_questions`\n",
    "                        WHERE\n",
    "                            NOT creation_date IS NULL \n",
    "                        UNION ALL \n",
    "                        SELECT\n",
    "                            creation_date AS active_date,\n",
    "                            EXTRACT (YEAR FROM creation_date) AS year,\n",
    "                            EXTRACT (MONTH FROM creation_date) AS month,\n",
    "                            owner_user_id\n",
    "                        FROM `bigquery-public-data.stackoverflow.posts_answers`\n",
    "                        WHERE\n",
    "                            NOT creation_date IS NULL \n",
    "                        UNION ALL \n",
    "                        SELECT\n",
    "                            creation_date AS active_date,\n",
    "                            EXTRACT (YEAR FROM creation_date) AS year,\n",
    "                            EXTRACT (MONTH FROM creation_date) AS month,\n",
    "                            user_id AS owner_user_id\n",
    "                        FROM `bigquery-public-data.stackoverflow.comments`\n",
    "                        WHERE\n",
    "                            NOT creation_date IS NULL\n",
    "                        \"\"\"\n",
    "    view = client.create_table(view)"
   ]
  },
  {
   "cell_type": "code",
   "execution_count": 10,
   "id": "5fee3c47-5fbc-4a94-bc87-f589bc51c8f5",
   "metadata": {},
   "outputs": [
    {
     "name": "stdout",
     "output_type": "stream",
     "text": [
      "<class 'pandas.core.frame.DataFrame'>\n",
      "RangeIndex: 1961555 entries, 0 to 1961554\n",
      "Data columns (total 4 columns):\n",
      " #   Column         Dtype              \n",
      "---  ------         -----              \n",
      " 0   active_date    datetime64[ns, UTC]\n",
      " 1   year           int64              \n",
      " 2   month          int64              \n",
      " 3   owner_user_id  float64            \n",
      "dtypes: datetime64[ns, UTC](1), float64(1), int64(2)\n",
      "memory usage: 59.9 MB\n"
     ]
    }
   ],
   "source": [
    "# quick null checking to ensure the table is null free\n",
    "query = \"\"\"\n",
    "        SELECT \n",
    "            *\n",
    "        FROM `portfolio-331917.stored_views.active_users`\n",
    "        WHERE \n",
    "            active_date IS NULL \n",
    "            OR year IS NULL \n",
    "            OR month IS NULL \n",
    "            OR owner_user_id IS NULL \n",
    "        \"\"\"\n",
    "\n",
    "result = getQueryAsDF(query)\n",
    "result.info()"
   ]
  },
  {
   "cell_type": "markdown",
   "id": "1ca44079-78cd-4376-a627-9c0809f53d53",
   "metadata": {},
   "source": [
    "great, none of the fields have any null value and they are assigned to appropriate data typed. "
   ]
  },
  {
   "cell_type": "code",
   "execution_count": 51,
   "id": "f8ab47d2-77bc-4389-9c8c-eac661af49b8",
   "metadata": {},
   "outputs": [
    {
     "data": {
      "text/html": [
       "<div>\n",
       "<style scoped>\n",
       "    .dataframe tbody tr th:only-of-type {\n",
       "        vertical-align: middle;\n",
       "    }\n",
       "\n",
       "    .dataframe tbody tr th {\n",
       "        vertical-align: top;\n",
       "    }\n",
       "\n",
       "    .dataframe thead th {\n",
       "        text-align: right;\n",
       "    }\n",
       "</style>\n",
       "<table border=\"1\" class=\"dataframe\">\n",
       "  <thead>\n",
       "    <tr style=\"text-align: right;\">\n",
       "      <th></th>\n",
       "      <th>date</th>\n",
       "      <th>year</th>\n",
       "      <th>month</th>\n",
       "      <th>weekday</th>\n",
       "      <th>dau</th>\n",
       "      <th>ratio</th>\n",
       "    </tr>\n",
       "  </thead>\n",
       "  <tbody>\n",
       "    <tr>\n",
       "      <th>0</th>\n",
       "      <td>2021-08-31</td>\n",
       "      <td>2021</td>\n",
       "      <td>8</td>\n",
       "      <td>Tue</td>\n",
       "      <td>15258</td>\n",
       "      <td>8.008020</td>\n",
       "    </tr>\n",
       "    <tr>\n",
       "      <th>1</th>\n",
       "      <td>2021-08-30</td>\n",
       "      <td>2021</td>\n",
       "      <td>8</td>\n",
       "      <td>Mon</td>\n",
       "      <td>13942</td>\n",
       "      <td>7.317329</td>\n",
       "    </tr>\n",
       "    <tr>\n",
       "      <th>2</th>\n",
       "      <td>2021-08-29</td>\n",
       "      <td>2021</td>\n",
       "      <td>8</td>\n",
       "      <td>Sun</td>\n",
       "      <td>8752</td>\n",
       "      <td>4.593406</td>\n",
       "    </tr>\n",
       "    <tr>\n",
       "      <th>3</th>\n",
       "      <td>2021-08-28</td>\n",
       "      <td>2021</td>\n",
       "      <td>8</td>\n",
       "      <td>Sat</td>\n",
       "      <td>8451</td>\n",
       "      <td>4.435429</td>\n",
       "    </tr>\n",
       "    <tr>\n",
       "      <th>4</th>\n",
       "      <td>2021-08-27</td>\n",
       "      <td>2021</td>\n",
       "      <td>8</td>\n",
       "      <td>Fri</td>\n",
       "      <td>13988</td>\n",
       "      <td>7.341472</td>\n",
       "    </tr>\n",
       "    <tr>\n",
       "      <th>...</th>\n",
       "      <td>...</td>\n",
       "      <td>...</td>\n",
       "      <td>...</td>\n",
       "      <td>...</td>\n",
       "      <td>...</td>\n",
       "      <td>...</td>\n",
       "    </tr>\n",
       "    <tr>\n",
       "      <th>116</th>\n",
       "      <td>2021-05-07</td>\n",
       "      <td>2021</td>\n",
       "      <td>5</td>\n",
       "      <td>Fri</td>\n",
       "      <td>14215</td>\n",
       "      <td>7.248742</td>\n",
       "    </tr>\n",
       "    <tr>\n",
       "      <th>117</th>\n",
       "      <td>2021-05-06</td>\n",
       "      <td>2021</td>\n",
       "      <td>5</td>\n",
       "      <td>Thu</td>\n",
       "      <td>15656</td>\n",
       "      <td>7.983560</td>\n",
       "    </tr>\n",
       "    <tr>\n",
       "      <th>118</th>\n",
       "      <td>2021-05-05</td>\n",
       "      <td>2021</td>\n",
       "      <td>5</td>\n",
       "      <td>Wed</td>\n",
       "      <td>15224</td>\n",
       "      <td>7.763267</td>\n",
       "    </tr>\n",
       "    <tr>\n",
       "      <th>119</th>\n",
       "      <td>2021-05-04</td>\n",
       "      <td>2021</td>\n",
       "      <td>5</td>\n",
       "      <td>Tue</td>\n",
       "      <td>14772</td>\n",
       "      <td>7.532776</td>\n",
       "    </tr>\n",
       "    <tr>\n",
       "      <th>120</th>\n",
       "      <td>2021-05-03</td>\n",
       "      <td>2021</td>\n",
       "      <td>5</td>\n",
       "      <td>Mon</td>\n",
       "      <td>13607</td>\n",
       "      <td>6.938701</td>\n",
       "    </tr>\n",
       "  </tbody>\n",
       "</table>\n",
       "<p>121 rows × 6 columns</p>\n",
       "</div>"
      ],
      "text/plain": [
       "           date  year  month weekday    dau     ratio\n",
       "0    2021-08-31  2021      8     Tue  15258  8.008020\n",
       "1    2021-08-30  2021      8     Mon  13942  7.317329\n",
       "2    2021-08-29  2021      8     Sun   8752  4.593406\n",
       "3    2021-08-28  2021      8     Sat   8451  4.435429\n",
       "4    2021-08-27  2021      8     Fri  13988  7.341472\n",
       "..          ...   ...    ...     ...    ...       ...\n",
       "116  2021-05-07  2021      5     Fri  14215  7.248742\n",
       "117  2021-05-06  2021      5     Thu  15656  7.983560\n",
       "118  2021-05-05  2021      5     Wed  15224  7.763267\n",
       "119  2021-05-04  2021      5     Tue  14772  7.532776\n",
       "120  2021-05-03  2021      5     Mon  13607  6.938701\n",
       "\n",
       "[121 rows x 6 columns]"
      ]
     },
     "execution_count": 51,
     "metadata": {},
     "output_type": "execute_result"
    }
   ],
   "source": [
    "# grabbing mau and dau from the saved view\n",
    "# cte for readability of the sql\n",
    "query = \"\"\"\n",
    "        WITH dau AS\n",
    "        (\n",
    "            SELECT \n",
    "                DISTINCT DATE(active_date) AS date,\n",
    "                year, month,\n",
    "                COUNT(DISTINCT owner_user_id) AS dau\n",
    "            FROM `portfolio-331917.stored_views.active_users`\n",
    "            GROUP BY 1,2,3\n",
    "            ORDER BY 1\n",
    "        ),\n",
    "\n",
    "        mau AS\n",
    "        (\n",
    "            SELECT \n",
    "                year, month,\n",
    "                COUNT(DISTINCT owner_user_id) AS mau\n",
    "            FROM `portfolio-331917.stored_views.active_users`\n",
    "            GROUP BY 1,2\n",
    "            ORDER BY 1,2\n",
    "        )\n",
    "\n",
    "        SELECT \n",
    "            date,\n",
    "            dau.year,\n",
    "            dau.month,\n",
    "            FORMAT_DATE(\"%a\", date) AS weekday,\n",
    "            dau.dau,\n",
    "            (dau.dau/mau.mau * 100) AS ratio\n",
    "        FROM \n",
    "            dau JOIN \n",
    "            mau ON dau.year = mau.year AND dau.month = mau.month\n",
    "        WHERE \n",
    "            DATE_DIFF(DATE \"2021-08-31\", DATE(date), DAY) <= 120\n",
    "            AND EXTRACT(MONTH FROM date) != 9\n",
    "        ORDER BY date DESC\n",
    "        \"\"\"\n",
    "\n",
    "df_dau_mau = getQueryAsDF(query)\n",
    "df_dau_mau"
   ]
  },
  {
   "cell_type": "code",
   "execution_count": 52,
   "id": "558d54da-74bb-428a-94cb-99cc2085054b",
   "metadata": {},
   "outputs": [
    {
     "data": {
      "text/html": [
       "<div>\n",
       "<style scoped>\n",
       "    .dataframe tbody tr th:only-of-type {\n",
       "        vertical-align: middle;\n",
       "    }\n",
       "\n",
       "    .dataframe tbody tr th {\n",
       "        vertical-align: top;\n",
       "    }\n",
       "\n",
       "    .dataframe thead th {\n",
       "        text-align: right;\n",
       "    }\n",
       "</style>\n",
       "<table border=\"1\" class=\"dataframe\">\n",
       "  <thead>\n",
       "    <tr style=\"text-align: right;\">\n",
       "      <th></th>\n",
       "      <th>year</th>\n",
       "      <th>month</th>\n",
       "      <th>dau</th>\n",
       "      <th>ratio</th>\n",
       "    </tr>\n",
       "  </thead>\n",
       "  <tbody>\n",
       "    <tr>\n",
       "      <th>count</th>\n",
       "      <td>121.0</td>\n",
       "      <td>121.000000</td>\n",
       "      <td>121.000000</td>\n",
       "      <td>121.000000</td>\n",
       "    </tr>\n",
       "    <tr>\n",
       "      <th>mean</th>\n",
       "      <td>2021.0</td>\n",
       "      <td>6.528926</td>\n",
       "      <td>12627.363636</td>\n",
       "      <td>6.618908</td>\n",
       "    </tr>\n",
       "    <tr>\n",
       "      <th>std</th>\n",
       "      <td>0.0</td>\n",
       "      <td>1.118588</td>\n",
       "      <td>2880.020249</td>\n",
       "      <td>1.498425</td>\n",
       "    </tr>\n",
       "    <tr>\n",
       "      <th>min</th>\n",
       "      <td>2021.0</td>\n",
       "      <td>5.000000</td>\n",
       "      <td>7488.000000</td>\n",
       "      <td>4.054076</td>\n",
       "    </tr>\n",
       "    <tr>\n",
       "      <th>25%</th>\n",
       "      <td>2021.0</td>\n",
       "      <td>6.000000</td>\n",
       "      <td>8843.000000</td>\n",
       "      <td>4.557299</td>\n",
       "    </tr>\n",
       "    <tr>\n",
       "      <th>50%</th>\n",
       "      <td>2021.0</td>\n",
       "      <td>7.000000</td>\n",
       "      <td>13836.000000</td>\n",
       "      <td>7.231610</td>\n",
       "    </tr>\n",
       "    <tr>\n",
       "      <th>75%</th>\n",
       "      <td>2021.0</td>\n",
       "      <td>8.000000</td>\n",
       "      <td>14737.000000</td>\n",
       "      <td>7.763228</td>\n",
       "    </tr>\n",
       "    <tr>\n",
       "      <th>max</th>\n",
       "      <td>2021.0</td>\n",
       "      <td>8.000000</td>\n",
       "      <td>15913.000000</td>\n",
       "      <td>8.218479</td>\n",
       "    </tr>\n",
       "  </tbody>\n",
       "</table>\n",
       "</div>"
      ],
      "text/plain": [
       "         year       month           dau       ratio\n",
       "count   121.0  121.000000    121.000000  121.000000\n",
       "mean   2021.0    6.528926  12627.363636    6.618908\n",
       "std       0.0    1.118588   2880.020249    1.498425\n",
       "min    2021.0    5.000000   7488.000000    4.054076\n",
       "25%    2021.0    6.000000   8843.000000    4.557299\n",
       "50%    2021.0    7.000000  13836.000000    7.231610\n",
       "75%    2021.0    8.000000  14737.000000    7.763228\n",
       "max    2021.0    8.000000  15913.000000    8.218479"
      ]
     },
     "execution_count": 52,
     "metadata": {},
     "output_type": "execute_result"
    }
   ],
   "source": [
    "df_dau_mau.describe()"
   ]
  },
  {
   "cell_type": "markdown",
   "id": "9b3c775f-37e1-49a7-a336-f2f3684740b1",
   "metadata": {},
   "source": [
    "We can estimate the population mean of the dau/mau ratio is ~8.74% with standard deviation of 3.42%. That is quite low for the platform \"stickiness\" comparing to industry standard of 20%.\n",
    "\n",
    "let find the 95% CI for the true population mean of the dau/mau ratio."
   ]
  },
  {
   "cell_type": "code",
   "execution_count": 53,
   "id": "23870b53-26a6-4899-afba-200c48cebe53",
   "metadata": {},
   "outputs": [
    {
     "data": {
      "text/plain": [
       "Text(0.5, 1.0, 'DAU/MAU ratio')"
      ]
     },
     "execution_count": 53,
     "metadata": {},
     "output_type": "execute_result"
    },
    {
     "data": {
      "image/png": "[encoded data removed]",
      "text/plain": [
       "<Figure size 432x288 with 1 Axes>"
      ]
     },
     "metadata": {
      "needs_background": "light"
     },
     "output_type": "display_data"
    }
   ],
   "source": [
    "sns.lineplot(data = df_dau_mau, x = 'date', y = 'ratio')\n",
    "plt.title('DAU/MAU ratio')"
   ]
  },
  {
   "cell_type": "code",
   "execution_count": 38,
   "id": "ba596988-74b9-44fe-b67a-579ee4fb9f78",
   "metadata": {},
   "outputs": [
    {
     "data": {
      "text/plain": [
       "(5.993372378786439, 7.0723847445717825)"
      ]
     },
     "execution_count": 38,
     "metadata": {},
     "output_type": "execute_result"
    }
   ],
   "source": [
    "import scipy.stats as st\n",
    "\n",
    "ratio = df_dau_mau[\"ratio\"].values\n",
    "confi_lvl = .95\n",
    "ratio_mean = np.mean(ratio)\n",
    "std_err_mean = st.sem(ratio) \n",
    "\n",
    "# note: using the st.norm instead of st.t due to the dataset size. With CLT, we can assume the dataset is normally distr. \n",
    "ratio_ci = st.norm.interval(alpha = confi_lvl, loc = ratio_mean, scale = std_err_mean)\n",
    "ratio_ci"
   ]
  },
  {
   "cell_type": "code",
   "execution_count": 19,
   "id": "ce33ebc5-9ea8-487e-ac50-dada96290905",
   "metadata": {},
   "outputs": [
    {
     "data": {
      "text/plain": [
       "Text(0.5, 1.0, 'DAU/MAU ratio')"
      ]
     },
     "execution_count": 19,
     "metadata": {},
     "output_type": "execute_result"
    },
    {
     "data": {
      "image/png": "[encoded data removed]",
      "text/plain": [
       "<Figure size 432x288 with 1 Axes>"
      ]
     },
     "metadata": {
      "needs_background": "light"
     },
     "output_type": "display_data"
    }
   ],
   "source": [
    "# plotting the data points \n",
    "sns.scatterplot(data = df_dau_mau, x = 'year', y = 'ratio', hue = 'year')\n",
    "plt.title('DAU/MAU ratio')"
   ]
  },
  {
   "cell_type": "markdown",
   "id": "975230de-9392-4c79-8c6e-38988c4421f0",
   "metadata": {},
   "source": [
    "There is 1 data point with 100% dau/mau ratio. This fell on the date of 2008-07-31, 1 and a half month before the platform publicly launch. There were 3 users for both dau and mau for that date. \n",
    "\n",
    "I decided to included this data point since it was interesting to see the dataset goes back prelaunch date(2008-09-15). More importantly, it does not impact the estimated population mean or the CI enough to make a difference. \n",
    "\n",
    "For more insight, we can dive into cohort analysis to understand the retention rate in another project. \n",
    "\n",
    "Notice, there is a slight negative trend in dau/mau ratio."
   ]
  },
  {
   "cell_type": "markdown",
   "id": "716d30d1-3f1c-44d8-996e-612b0ba9b4bf",
   "metadata": {},
   "source": [
    "## 2. Total inactive users and the total users population\n",
    "- query to find the total inactive users and the entire population."
   ]
  },
  {
   "cell_type": "code",
   "execution_count": 9,
   "id": "acb49921-3947-4d29-a3a5-f63b2a7d01fd",
   "metadata": {},
   "outputs": [
    {
     "data": {
      "text/html": [
       "<div>\n",
       "<style scoped>\n",
       "    .dataframe tbody tr th:only-of-type {\n",
       "        vertical-align: middle;\n",
       "    }\n",
       "\n",
       "    .dataframe tbody tr th {\n",
       "        vertical-align: top;\n",
       "    }\n",
       "\n",
       "    .dataframe thead th {\n",
       "        text-align: right;\n",
       "    }\n",
       "</style>\n",
       "<table border=\"1\" class=\"dataframe\">\n",
       "  <thead>\n",
       "    <tr style=\"text-align: right;\">\n",
       "      <th></th>\n",
       "      <th>active</th>\n",
       "      <th>inactive</th>\n",
       "    </tr>\n",
       "  </thead>\n",
       "  <tbody>\n",
       "    <tr>\n",
       "      <th>0</th>\n",
       "      <td>5456778</td>\n",
       "      <td>10082167</td>\n",
       "    </tr>\n",
       "  </tbody>\n",
       "</table>\n",
       "</div>"
      ],
      "text/plain": [
       "    active  inactive\n",
       "0  5456778  10082167"
      ]
     },
     "execution_count": 9,
     "metadata": {},
     "output_type": "execute_result"
    }
   ],
   "source": [
    "# the query is a bit noisy but does the job just fine.\n",
    "query = \"\"\"\n",
    "        -- CTE for all active sessions in the last 90 days\n",
    "        WITH all_actives AS\n",
    "        (\n",
    "            SELECT\n",
    "                id AS owner_user_id\n",
    "            FROM `bigquery-public-data.stackoverflow.users`\n",
    "            WHERE\n",
    "                NOT creation_date IS NULL\n",
    "                AND DATE_DIFF(DATE \"2021-09-05\", DATE(last_access_date), DAY) <= 90\n",
    "            UNION ALL \n",
    "            SELECT\n",
    "                id AS owner_user_id\n",
    "            FROM `bigquery-public-data.stackoverflow.comments`\n",
    "            WHERE\n",
    "                NOT creation_date IS NULL\n",
    "                AND DATE_DIFF(DATE \"2021-09-05\", DATE(creation_date), DAY) <= 90\n",
    "            UNION ALL \n",
    "            SELECT\n",
    "                id AS owner_user_id\n",
    "            FROM `bigquery-public-data.stackoverflow.posts_questions`\n",
    "            WHERE\n",
    "                NOT creation_date IS NULL\n",
    "                AND DATE_DIFF(DATE \"2021-09-05\", DATE(creation_date), DAY) <= 90\n",
    "            UNION ALL \n",
    "            SELECT\n",
    "                id AS owner_user_id\n",
    "            FROM `bigquery-public-data.stackoverflow.posts_answers`\n",
    "            WHERE\n",
    "                NOT creation_date IS NULL\n",
    "                AND DATE_DIFF(DATE \"2021-09-05\", DATE(creation_date), DAY) <= 90\n",
    "        )\n",
    "\n",
    "        SELECT \n",
    "            (SELECT COUNT(DISTINCT owner_user_id) FROM all_actives) AS active,\n",
    "            (SELECT COUNT(DISTINCT id) FROM `bigquery-public-data.stackoverflow.users`) - (SELECT COUNT(DISTINCT owner_user_id) FROM all_actives) AS inactive\n",
    "        \"\"\"\n",
    "\n",
    "result = getQueryAsDF(query)\n",
    "result"
   ]
  },
  {
   "cell_type": "code",
   "execution_count": null,
   "id": "90bdbf4e-85be-43ee-8a75-a6efc45b1a74",
   "metadata": {},
   "outputs": [],
   "source": []
  },
  {
   "cell_type": "code",
   "execution_count": null,
   "id": "9cf8ff13-cad3-4597-b6ef-71d357af4836",
   "metadata": {},
   "outputs": [],
   "source": []
  }
 ],
 "metadata": {
  "kernelspec": {
   "display_name": "Python 3",
   "language": "python",
   "name": "python3"
  },
  "language_info": {
   "codemirror_mode": {
    "name": "ipython",
    "version": 3
   },
   "file_extension": ".py",
   "mimetype": "text/x-python",
   "name": "python",
   "nbconvert_exporter": "python",
   "pygments_lexer": "ipython3",
   "version": "3.8.8"
  }
 },
 "nbformat": 4,
 "nbformat_minor": 5
}
