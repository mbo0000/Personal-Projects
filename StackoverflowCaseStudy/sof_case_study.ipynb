{
 "cells": [
  {
   "cell_type": "code",
   "execution_count": 1,
   "metadata": {},
   "outputs": [],
   "source": [
    "import pandas as pd\n",
    "import numpy as np\n",
    "from pandas import DataFrame\n",
    "import os\n",
    "\n",
    "import matplotlib.pyplot as plt\n",
    "import seaborn as sns\n",
    "\n",
    "%matplotlib inline\n",
    "%load_ext google.cloud.bigquery"
   ]
  },
  {
   "cell_type": "code",
   "execution_count": 2,
   "metadata": {},
   "outputs": [],
   "source": [
    "from google.cloud import bigquery\n",
    "\n",
    "credential_path = r'../../BQ_Keypath/portfolio-331917-359fa79d51d1.json'\n",
    "client = bigquery.Client.from_service_account_json(credential_path)\n",
    "\n",
    "# define helper functions\n",
    "def getQueryAsDF(query):\n",
    "    return client.query(query).result().to_dataframe()\n",
    "\n",
    "def getTableSchema(table):\n",
    "    return client.get_table(table).schema"
   ]
  },
  {
   "cell_type": "markdown",
   "metadata": {},
   "source": [
    "## 1. Population Growth Over Time\n",
    "We will be looking at users signup rate year by year. This will give us insight for the platform growth. "
   ]
  },
  {
   "cell_type": "code",
   "execution_count": 3,
   "metadata": {},
   "outputs": [
    {
     "data": {
      "text/plain": [
       "[SchemaField('id', 'INTEGER', 'NULLABLE', None, ()),\n",
       " SchemaField('display_name', 'STRING', 'NULLABLE', None, ()),\n",
       " SchemaField('about_me', 'STRING', 'NULLABLE', None, ()),\n",
       " SchemaField('age', 'STRING', 'NULLABLE', None, ()),\n",
       " SchemaField('creation_date', 'TIMESTAMP', 'NULLABLE', None, ()),\n",
       " SchemaField('last_access_date', 'TIMESTAMP', 'NULLABLE', None, ()),\n",
       " SchemaField('location', 'STRING', 'NULLABLE', None, ()),\n",
       " SchemaField('reputation', 'INTEGER', 'NULLABLE', None, ()),\n",
       " SchemaField('up_votes', 'INTEGER', 'NULLABLE', None, ()),\n",
       " SchemaField('down_votes', 'INTEGER', 'NULLABLE', None, ()),\n",
       " SchemaField('views', 'INTEGER', 'NULLABLE', None, ()),\n",
       " SchemaField('profile_image_url', 'STRING', 'NULLABLE', None, ()),\n",
       " SchemaField('website_url', 'STRING', 'NULLABLE', None, ())]"
      ]
     },
     "execution_count": 3,
     "metadata": {},
     "output_type": "execute_result"
    }
   ],
   "source": [
    "# understanding users table's schema\n",
    "schema = getTableSchema('bigquery-public-data.stackoverflow.users')\n",
    "schema"
   ]
  },
  {
   "cell_type": "code",
   "execution_count": 4,
   "metadata": {},
   "outputs": [
    {
     "data": {
      "text/html": [
       "<div>\n",
       "<style scoped>\n",
       "    .dataframe tbody tr th:only-of-type {\n",
       "        vertical-align: middle;\n",
       "    }\n",
       "\n",
       "    .dataframe tbody tr th {\n",
       "        vertical-align: top;\n",
       "    }\n",
       "\n",
       "    .dataframe thead th {\n",
       "        text-align: right;\n",
       "    }\n",
       "</style>\n",
       "<table border=\"1\" class=\"dataframe\">\n",
       "  <thead>\n",
       "    <tr style=\"text-align: right;\">\n",
       "      <th></th>\n",
       "      <th>null_count</th>\n",
       "    </tr>\n",
       "  </thead>\n",
       "  <tbody>\n",
       "    <tr>\n",
       "      <th>0</th>\n",
       "      <td>0</td>\n",
       "    </tr>\n",
       "  </tbody>\n",
       "</table>\n",
       "</div>"
      ],
      "text/plain": [
       "   null_count\n",
       "0           0"
      ]
     },
     "execution_count": 4,
     "metadata": {},
     "output_type": "execute_result"
    }
   ],
   "source": [
    "# since all field are NULLABLE modes, checking for nulls \n",
    "query = \"\"\"\n",
    "            SELECT \n",
    "                COUNT(*) AS null_count\n",
    "            FROM\n",
    "                `bigquery-public-data.stackoverflow.users`\n",
    "            WHERE\n",
    "                id IS NULL\n",
    "                OR creation_date IS NULL\n",
    "                OR last_access_date IS NULL;\n",
    "        \"\"\"\n",
    "\n",
    "result = getQueryAsDF(query)\n",
    "result"
   ]
  },
  {
   "cell_type": "code",
   "execution_count": 5,
   "metadata": {},
   "outputs": [
    {
     "data": {
      "text/html": [
       "<div>\n",
       "<style scoped>\n",
       "    .dataframe tbody tr th:only-of-type {\n",
       "        vertical-align: middle;\n",
       "    }\n",
       "\n",
       "    .dataframe tbody tr th {\n",
       "        vertical-align: top;\n",
       "    }\n",
       "\n",
       "    .dataframe thead th {\n",
       "        text-align: right;\n",
       "    }\n",
       "</style>\n",
       "<table border=\"1\" class=\"dataframe\">\n",
       "  <thead>\n",
       "    <tr style=\"text-align: right;\">\n",
       "      <th></th>\n",
       "      <th>year</th>\n",
       "      <th>signup_count</th>\n",
       "    </tr>\n",
       "  </thead>\n",
       "  <tbody>\n",
       "    <tr>\n",
       "      <th>0</th>\n",
       "      <td>2008</td>\n",
       "      <td>21646</td>\n",
       "    </tr>\n",
       "    <tr>\n",
       "      <th>1</th>\n",
       "      <td>2009</td>\n",
       "      <td>78007</td>\n",
       "    </tr>\n",
       "    <tr>\n",
       "      <th>2</th>\n",
       "      <td>2010</td>\n",
       "      <td>199205</td>\n",
       "    </tr>\n",
       "    <tr>\n",
       "      <th>3</th>\n",
       "      <td>2011</td>\n",
       "      <td>358720</td>\n",
       "    </tr>\n",
       "    <tr>\n",
       "      <th>4</th>\n",
       "      <td>2012</td>\n",
       "      <td>678857</td>\n",
       "    </tr>\n",
       "    <tr>\n",
       "      <th>5</th>\n",
       "      <td>2013</td>\n",
       "      <td>1122387</td>\n",
       "    </tr>\n",
       "    <tr>\n",
       "      <th>6</th>\n",
       "      <td>2014</td>\n",
       "      <td>1174726</td>\n",
       "    </tr>\n",
       "    <tr>\n",
       "      <th>7</th>\n",
       "      <td>2015</td>\n",
       "      <td>1252388</td>\n",
       "    </tr>\n",
       "    <tr>\n",
       "      <th>8</th>\n",
       "      <td>2016</td>\n",
       "      <td>1515482</td>\n",
       "    </tr>\n",
       "    <tr>\n",
       "      <th>9</th>\n",
       "      <td>2017</td>\n",
       "      <td>1726646</td>\n",
       "    </tr>\n",
       "    <tr>\n",
       "      <th>10</th>\n",
       "      <td>2018</td>\n",
       "      <td>1644486</td>\n",
       "    </tr>\n",
       "    <tr>\n",
       "      <th>11</th>\n",
       "      <td>2019</td>\n",
       "      <td>1718755</td>\n",
       "    </tr>\n",
       "    <tr>\n",
       "      <th>12</th>\n",
       "      <td>2020</td>\n",
       "      <td>2203417</td>\n",
       "    </tr>\n",
       "    <tr>\n",
       "      <th>13</th>\n",
       "      <td>2021</td>\n",
       "      <td>1844223</td>\n",
       "    </tr>\n",
       "  </tbody>\n",
       "</table>\n",
       "</div>"
      ],
      "text/plain": [
       "    year  signup_count\n",
       "0   2008         21646\n",
       "1   2009         78007\n",
       "2   2010        199205\n",
       "3   2011        358720\n",
       "4   2012        678857\n",
       "5   2013       1122387\n",
       "6   2014       1174726\n",
       "7   2015       1252388\n",
       "8   2016       1515482\n",
       "9   2017       1726646\n",
       "10  2018       1644486\n",
       "11  2019       1718755\n",
       "12  2020       2203417\n",
       "13  2021       1844223"
      ]
     },
     "execution_count": 5,
     "metadata": {},
     "output_type": "execute_result"
    }
   ],
   "source": [
    "# user signup count by year\n",
    "query = \"\"\"\n",
    "            SELECT \n",
    "                EXTRACT (YEAR FROM creation_date) AS year,\n",
    "                COUNT(*) AS signup_count\n",
    "            FROM `bigquery-public-data.stackoverflow.users`\n",
    "            GROUP BY 1\n",
    "        \"\"\"\n",
    "\n",
    "result = getQueryAsDF(query)\n",
    "result"
   ]
  },
  {
   "cell_type": "code",
   "execution_count": 6,
   "metadata": {},
   "outputs": [
    {
     "data": {
      "text/html": [
       "<div>\n",
       "<style scoped>\n",
       "    .dataframe tbody tr th:only-of-type {\n",
       "        vertical-align: middle;\n",
       "    }\n",
       "\n",
       "    .dataframe tbody tr th {\n",
       "        vertical-align: top;\n",
       "    }\n",
       "\n",
       "    .dataframe thead th {\n",
       "        text-align: right;\n",
       "    }\n",
       "</style>\n",
       "<table border=\"1\" class=\"dataframe\">\n",
       "  <thead>\n",
       "    <tr style=\"text-align: right;\">\n",
       "      <th></th>\n",
       "      <th>year</th>\n",
       "      <th>signup_count</th>\n",
       "      <th>total_user_by_year</th>\n",
       "      <th>growth_perc</th>\n",
       "    </tr>\n",
       "  </thead>\n",
       "  <tbody>\n",
       "    <tr>\n",
       "      <th>0</th>\n",
       "      <td>2008</td>\n",
       "      <td>21646</td>\n",
       "      <td>21646</td>\n",
       "      <td>100.00</td>\n",
       "    </tr>\n",
       "    <tr>\n",
       "      <th>1</th>\n",
       "      <td>2009</td>\n",
       "      <td>78007</td>\n",
       "      <td>99653</td>\n",
       "      <td>460.38</td>\n",
       "    </tr>\n",
       "    <tr>\n",
       "      <th>2</th>\n",
       "      <td>2010</td>\n",
       "      <td>199205</td>\n",
       "      <td>298858</td>\n",
       "      <td>299.90</td>\n",
       "    </tr>\n",
       "    <tr>\n",
       "      <th>3</th>\n",
       "      <td>2011</td>\n",
       "      <td>358720</td>\n",
       "      <td>657578</td>\n",
       "      <td>220.03</td>\n",
       "    </tr>\n",
       "    <tr>\n",
       "      <th>4</th>\n",
       "      <td>2012</td>\n",
       "      <td>678857</td>\n",
       "      <td>1336435</td>\n",
       "      <td>203.24</td>\n",
       "    </tr>\n",
       "    <tr>\n",
       "      <th>5</th>\n",
       "      <td>2013</td>\n",
       "      <td>1122387</td>\n",
       "      <td>2458822</td>\n",
       "      <td>183.98</td>\n",
       "    </tr>\n",
       "    <tr>\n",
       "      <th>6</th>\n",
       "      <td>2014</td>\n",
       "      <td>1174726</td>\n",
       "      <td>3633548</td>\n",
       "      <td>147.78</td>\n",
       "    </tr>\n",
       "    <tr>\n",
       "      <th>7</th>\n",
       "      <td>2015</td>\n",
       "      <td>1252388</td>\n",
       "      <td>4885936</td>\n",
       "      <td>134.47</td>\n",
       "    </tr>\n",
       "    <tr>\n",
       "      <th>8</th>\n",
       "      <td>2016</td>\n",
       "      <td>1515482</td>\n",
       "      <td>6401418</td>\n",
       "      <td>131.02</td>\n",
       "    </tr>\n",
       "    <tr>\n",
       "      <th>9</th>\n",
       "      <td>2017</td>\n",
       "      <td>1726646</td>\n",
       "      <td>8128064</td>\n",
       "      <td>126.97</td>\n",
       "    </tr>\n",
       "    <tr>\n",
       "      <th>10</th>\n",
       "      <td>2018</td>\n",
       "      <td>1644486</td>\n",
       "      <td>9772550</td>\n",
       "      <td>120.23</td>\n",
       "    </tr>\n",
       "    <tr>\n",
       "      <th>11</th>\n",
       "      <td>2019</td>\n",
       "      <td>1718755</td>\n",
       "      <td>11491305</td>\n",
       "      <td>117.59</td>\n",
       "    </tr>\n",
       "    <tr>\n",
       "      <th>12</th>\n",
       "      <td>2020</td>\n",
       "      <td>2203417</td>\n",
       "      <td>13694722</td>\n",
       "      <td>119.17</td>\n",
       "    </tr>\n",
       "    <tr>\n",
       "      <th>13</th>\n",
       "      <td>2021</td>\n",
       "      <td>1844223</td>\n",
       "      <td>15538945</td>\n",
       "      <td>113.47</td>\n",
       "    </tr>\n",
       "  </tbody>\n",
       "</table>\n",
       "</div>"
      ],
      "text/plain": [
       "    year  signup_count  total_user_by_year  growth_perc\n",
       "0   2008         21646               21646       100.00\n",
       "1   2009         78007               99653       460.38\n",
       "2   2010        199205              298858       299.90\n",
       "3   2011        358720              657578       220.03\n",
       "4   2012        678857             1336435       203.24\n",
       "5   2013       1122387             2458822       183.98\n",
       "6   2014       1174726             3633548       147.78\n",
       "7   2015       1252388             4885936       134.47\n",
       "8   2016       1515482             6401418       131.02\n",
       "9   2017       1726646             8128064       126.97\n",
       "10  2018       1644486             9772550       120.23\n",
       "11  2019       1718755            11491305       117.59\n",
       "12  2020       2203417            13694722       119.17\n",
       "13  2021       1844223            15538945       113.47"
      ]
     },
     "execution_count": 6,
     "metadata": {},
     "output_type": "execute_result"
    }
   ],
   "source": [
    "users_count = result['signup_count'].values\n",
    "\n",
    "total_users_by_year = []\n",
    "growth_perc = []\n",
    "total_users_by_year.append(users_count[0])\n",
    "growth_perc.append(100)\n",
    "\n",
    "for i in range(len(users_count)):\n",
    "    if i < len(users_count)-1:\n",
    "        index = i+2\n",
    "        total_users_by_year.append(np.sum(users_count[:index]))\n",
    "        growth_perc.append(round(total_users_by_year[index-1]/total_users_by_year[i] * 100,2))\n",
    "\n",
    "df = result\n",
    "df['total_user_by_year'] = total_users_by_year\n",
    "df['growth_perc'] = growth_perc\n",
    "df"
   ]
  },
  {
   "cell_type": "code",
   "execution_count": 21,
   "metadata": {},
   "outputs": [
    {
     "data": {
      "text/plain": [
       "(array([ 0,  1,  2,  3,  4,  5,  6,  7,  8,  9, 10, 11, 12]),\n",
       " [Text(0, 0, '2009'),\n",
       "  Text(1, 0, '2010'),\n",
       "  Text(2, 0, '2011'),\n",
       "  Text(3, 0, '2012'),\n",
       "  Text(4, 0, '2013'),\n",
       "  Text(5, 0, '2014'),\n",
       "  Text(6, 0, '2015'),\n",
       "  Text(7, 0, '2016'),\n",
       "  Text(8, 0, '2017'),\n",
       "  Text(9, 0, '2018'),\n",
       "  Text(10, 0, '2019'),\n",
       "  Text(11, 0, '2020'),\n",
       "  Text(12, 0, '2021')])"
      ]
     },
     "execution_count": 21,
     "metadata": {},
     "output_type": "execute_result"
    },
    {
     "data": {
      "image/png": "[encoded data removed]",
      "text/plain": [
       "<Figure size 432x288 with 1 Axes>"
      ]
     },
     "metadata": {
      "needs_background": "light"
     },
     "output_type": "display_data"
    }
   ],
   "source": [
    "sns.barplot(data = df[1:], x = 'year', y = 'signup_count', palette = 'Blues')\n",
    "avg_growth_count = np.average(df['signup_count'])\n",
    "text_avg_growth_count = 'Average signup: {}'.format(round(avg_growth_count))\n",
    "plt.axhline(avg_growth_count, ls = '--')\n",
    "plt.text(0, avg_growth_count * 1.1, text_avg_growth_count)\n",
    "plt.title('Raw Population Count')\n",
    "plt.ylabel('signup count by x1 million')\n",
    "plt.xticks(rotation = 45)"
   ]
  },
  {
   "cell_type": "code",
   "execution_count": 22,
   "metadata": {},
   "outputs": [
    {
     "data": {
      "text/plain": [
       "(array([ 0,  1,  2,  3,  4,  5,  6,  7,  8,  9, 10, 11, 12]),\n",
       " [Text(0, 0, '2009'),\n",
       "  Text(1, 0, '2010'),\n",
       "  Text(2, 0, '2011'),\n",
       "  Text(3, 0, '2012'),\n",
       "  Text(4, 0, '2013'),\n",
       "  Text(5, 0, '2014'),\n",
       "  Text(6, 0, '2015'),\n",
       "  Text(7, 0, '2016'),\n",
       "  Text(8, 0, '2017'),\n",
       "  Text(9, 0, '2018'),\n",
       "  Text(10, 0, '2019'),\n",
       "  Text(11, 0, '2020'),\n",
       "  Text(12, 0, '2021')])"
      ]
     },
     "execution_count": 22,
     "metadata": {},
     "output_type": "execute_result"
    },
    {
     "data": {
      "image/png": "[encoded data removed]",
      "text/plain": [
       "<Figure size 432x288 with 1 Axes>"
      ]
     },
     "metadata": {
      "needs_background": "light"
     },
     "output_type": "display_data"
    }
   ],
   "source": [
    "# excluding 2008 as it was the launch year.\n",
    "sns.barplot(data = df[1:], x = 'year', y = 'growth_perc', palette = 'Blues')\n",
    "avg_growth_perc = np.average(growth_perc[1:]) # adding reference line for average growth\n",
    "text_avg_growth_perc = 'Average signup perc: {}{}'.format(round(avg_growth_perc,2),'%')\n",
    "plt.axhline(avg_growth_perc, ls = '--')\n",
    "plt.text(5, 200, text_avg_growth_perc)\n",
    "plt.title('User Population Growth %')\n",
    "plt.ylabel('growth percentage')\n",
    "plt.xticks(rotation = 45)"
   ]
  },
  {
   "cell_type": "markdown",
   "metadata": {},
   "source": [
    "Notice that after 1 year of the launch, the platform users grew over 400%. However, it is important to keep in mind the actual users count sign up is much smaller compare to the years after. Overall, we can be confident that the users population growth is in a healthy state where the yearly total new users counts are higher than average."
   ]
  },
  {
   "cell_type": "markdown",
   "metadata": {},
   "source": [
    "## 2. Understanding User Activity and Engagement. \n",
    "- Monthly Active Users(MAU): unique user post by comment, question or answer. \n",
    "- Active but not engaged users(signed in and visited the site but does not post)"
   ]
  },
  {
   "cell_type": "code",
   "execution_count": null,
   "metadata": {},
   "outputs": [],
   "source": [
    "query = \"\"\"\n",
    "[WIP]\n",
    "        SELECT \n",
    "            (pa.total_active + pq.total_active + pc.total_active) AS total,\n",
    "            pq.year_month\n",
    "        FROM \n",
    "            (SELECT\n",
    "                CONCAT(EXTRACT (YEAR FROM creation_date), ' ', EXTRACT (MONTH FROM creation_date)) AS year_month,\n",
    "                COUNT(DISTINCT owner_user_id) AS total_active\n",
    "            FROM `bigquery-public-data.stackoverflow.posts_questions`\n",
    "            GROUP BY 1\n",
    "            ORDER BY 1) AS pq \n",
    "            JOIN (SELECT\n",
    "                    CONCAT(EXTRACT (YEAR FROM creation_date), ' ', EXTRACT (MONTH FROM creation_date)) AS year_month,\n",
    "                    COUNT(DISTINCT owner_user_id) AS total_active\n",
    "                FROM `bigquery-public-data.stackoverflow.posts_answers`\n",
    "                GROUP BY 1\n",
    "                ORDER BY 1) AS pa ON pq.year_month = pa.year_month\n",
    "            JOIN (SELECT\n",
    "                    CONCAT(EXTRACT (YEAR FROM creation_date), ' ', EXTRACT (MONTH FROM creation_date)) AS year_month,\n",
    "                    COUNT(DISTINCT user_id) AS total_active\n",
    "                FROM `bigquery-public-data.stackoverflow.comments`\n",
    "                GROUP BY 1\n",
    "                ORDER BY 1) AS pc ON pq.year_month = pc.year_month\n",
    "        ORDER BY 2\n",
    "        \"\"\"\n",
    "\n",
    "result = getQueryAsDF(query)\n",
    "result"
   ]
  },
  {
   "cell_type": "code",
   "execution_count": null,
   "metadata": {},
   "outputs": [],
   "source": []
  },
  {
   "cell_type": "code",
   "execution_count": null,
   "metadata": {},
   "outputs": [],
   "source": []
  }
 ],
 "metadata": {
  "kernelspec": {
   "display_name": "Python3.6",
   "language": "python",
   "name": "python3"
  },
  "language_info": {
   "codemirror_mode": {
    "name": "ipython",
    "version": 3
   },
   "file_extension": ".py",
   "mimetype": "text/x-python",
   "name": "python",
   "nbconvert_exporter": "python",
   "pygments_lexer": "ipython3",
   "version": "3.6.9"
  }
 },
 "nbformat": 4,
 "nbformat_minor": 5
}
