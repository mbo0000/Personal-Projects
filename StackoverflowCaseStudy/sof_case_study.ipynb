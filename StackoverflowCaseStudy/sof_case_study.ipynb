{
 "cells": [
  {
   "cell_type": "code",
   "execution_count": null,
   "id": "28cf1f1d",
   "metadata": {},
   "outputs": [],
   "source": [
    "import pandas as pd\n",
    "import numpy as np\n",
    "from pandas import DataFrame\n",
    "import os\n",
    "\n",
    "import matplotlib.pyplot as plt\n",
    "from matplotlib.ticker import PercentFormatter\n",
    "import seaborn as sns\n",
    "\n",
    "%matplotlib inline\n",
    "%load_ext google.cloud.bigquery"
   ]
  },
  {
   "cell_type": "code",
   "execution_count": null,
   "id": "9aab9885",
   "metadata": {},
   "outputs": [],
   "source": [
    "from google.cloud import bigquery\n",
    "\n",
    "credential_path = r'../../BQ_Keypath/portfolio-331917-9f920a11ce56.json'\n",
    "client = bigquery.Client.from_service_account_json(credential_path)\n",
    "\n",
    "# define helper functions\n",
    "def getQueryAsDF(query):\n",
    "    return client.query(query).result().to_dataframe()\n",
    "\n",
    "def getTableSchema(table):\n",
    "    return client.get_table(table).schema"
   ]
  },
  {
   "cell_type": "markdown",
   "id": "1ded2896",
   "metadata": {},
   "source": [
    "## 1. Population Growth Over Time\n",
    "We will be looking at users signup rate year by year. This will give us insight for the platform growth. "
   ]
  },
  {
   "cell_type": "code",
   "execution_count": null,
   "id": "8bcd359a",
   "metadata": {},
   "outputs": [],
   "source": [
    "# understanding users table's schema\n",
    "schema = getTableSchema('bigquery-public-data.stackoverflow.users')\n",
    "schema"
   ]
  },
  {
   "cell_type": "code",
   "execution_count": null,
   "id": "cae98f48",
   "metadata": {},
   "outputs": [],
   "source": [
    "# since all field are NULLABLE modes, checking for nulls \n",
    "query = \"\"\"\n",
    "            SELECT \n",
    "                COUNT(*) AS null_count\n",
    "            FROM\n",
    "                `bigquery-public-data.stackoverflow.users`\n",
    "            WHERE\n",
    "                id IS NULL\n",
    "                OR creation_date IS NULL\n",
    "                OR last_access_date IS NULL;\n",
    "        \"\"\"\n",
    "\n",
    "result = getQueryAsDF(query)\n",
    "result"
   ]
  },
  {
   "cell_type": "code",
   "execution_count": null,
   "id": "9d017e9d",
   "metadata": {},
   "outputs": [],
   "source": [
    "# user signup count by year\n",
    "query = \"\"\"\n",
    "            SELECT \n",
    "                EXTRACT (YEAR FROM creation_date) AS year,\n",
    "                COUNT(*) AS signup_count\n",
    "            FROM `bigquery-public-data.stackoverflow.users`\n",
    "            GROUP BY 1\n",
    "        \"\"\"\n",
    "\n",
    "result = getQueryAsDF(query)\n",
    "result"
   ]
  },
  {
   "cell_type": "code",
   "execution_count": null,
   "id": "faded37e",
   "metadata": {},
   "outputs": [],
   "source": [
    "# looking at user signup trend yearly.\n",
    "users_count = result['signup_count'].values\n",
    "total_user_count = result['signup_count'].sum()\n",
    "cumulative = []\n",
    "cumulative.append(round(users_count[0]/total_user_count * 100, 2))\n",
    "\n",
    "for i in range(len(users_count)):\n",
    "    index = i+2\n",
    "    if index <= len(users_count):\n",
    "        curr_count = np.sum(users_count[:index])\n",
    "        cumulative.append(round(curr_count/total_user_count * 100, 2))\n",
    "        \n",
    "df = result\n",
    "df['cumulative'] = cumulative\n",
    "df"
   ]
  },
  {
   "cell_type": "code",
   "execution_count": null,
   "id": "ed4fe511",
   "metadata": {
    "tags": []
   },
   "outputs": [],
   "source": [
    "fig, ax = plt.subplots();\n",
    "\n",
    "ax = sns.barplot(data = df, x = 'year', y = 'signup_count', palette = 'Blues')\n",
    "\n",
    "avg_growth_count = np.average(df['signup_count'])\n",
    "text_avg_growth_count = 'Average signup: {}'.format(round(avg_growth_count))\n",
    "plt.axhline(avg_growth_count, ls = '--')\n",
    "plt.text(0, avg_growth_count * 1.1, text_avg_growth_count)\n",
    "plt.xticks(rotation = 45)\n",
    "plt.ylabel('signup count by x1 million')\n",
    "\n",
    "ax2 = ax.twinx()\n",
    "ax2.plot(df.index, df['cumulative'], color = 'orange', marker=\"D\", ms=5)\n",
    "ax2.yaxis.set_major_formatter(PercentFormatter())\n",
    "ax2.set_ylabel(\"Cumulative Percentage\");\n",
    "\n",
    "plt.title('New User Signup Count')"
   ]
  },
  {
   "cell_type": "markdown",
   "id": "c32fce1e-1281-4941-b9a0-56c96416391b",
   "metadata": {},
   "source": [
    "Population growth for the platform is growing year after year with an average of 1109925. We can see the spurred starting from 2013. Each year there after gained by 1x million. "
   ]
  },
  {
   "cell_type": "markdown",
   "id": "35853da5",
   "metadata": {},
   "source": [
    "## 2. MAU KPI. \n",
    "- Monthly Active Users(MAU): unique user post by comment, question, answer or accessed site(signed in)."
   ]
  },
  {
   "cell_type": "code",
   "execution_count": null,
   "id": "170d7894-93f0-4e6f-9944-4ed770206a29",
   "metadata": {},
   "outputs": [],
   "source": [
    "# looking into comments, question and answer tables schema\n",
    "schema = getTableSchema('bigquery-public-data.stackoverflow.posts_questions')\n",
    "schema"
   ]
  },
  {
   "cell_type": "code",
   "execution_count": null,
   "id": "ba4e90a6-e37f-40cd-b910-19fa7df5cccc",
   "metadata": {},
   "outputs": [],
   "source": [
    "schema = getTableSchema('bigquery-public-data.stackoverflow.posts_answers')\n",
    "schema"
   ]
  },
  {
   "cell_type": "code",
   "execution_count": null,
   "id": "5da3342d-1889-46e8-8e6d-2d0ee08de063",
   "metadata": {},
   "outputs": [],
   "source": [
    "schema = getTableSchema('bigquery-public-data.stackoverflow.comments')\n",
    "schema"
   ]
  },
  {
   "cell_type": "markdown",
   "id": "7f4ad6dc-2959-4b84-a905-a16f005b8927",
   "metadata": {},
   "source": [
    "Can safely assume the creation_date field for each of the table has non-null values."
   ]
  },
  {
   "cell_type": "code",
   "execution_count": null,
   "id": "1e5b15d2-00bd-4cde-a1bb-2157b018f7e0",
   "metadata": {},
   "outputs": [],
   "source": [
    "from google.cloud.exceptions import NotFound\n",
    "\n",
    "# creating a view for the consolidated MAU for quick accesses later on.\n",
    "view_id = \"portfolio-331917.stored_views.active_users\"\n",
    "\n",
    "try:\n",
    "    client.get_table(view_id)\n",
    "    print('view already exist, skipping')\n",
    "except NotFound:\n",
    "    view = bigquery.Table(view_id)\n",
    "    view.view_query = f\"\"\"\n",
    "                        SELECT\n",
    "                            EXTRACT (YEAR FROM creation_date) AS year,\n",
    "                            EXTRACT (MONTH FROM creation_date) AS month,\n",
    "                            owner_user_id\n",
    "                        FROM `bigquery-public-data.stackoverflow.posts_questions`\n",
    "                        UNION ALL \n",
    "                        SELECT\n",
    "                            EXTRACT (YEAR FROM creation_date) AS year,\n",
    "                            EXTRACT (MONTH FROM creation_date) AS month,\n",
    "                            owner_user_id\n",
    "                        FROM `bigquery-public-data.stackoverflow.posts_answers`\n",
    "                        UNION ALL \n",
    "                        SELECT\n",
    "                            EXTRACT (YEAR FROM creation_date) AS year,\n",
    "                            EXTRACT (MONTH FROM creation_date) AS month,\n",
    "                            user_id AS owner_user_id\n",
    "                        FROM `bigquery-public-data.stackoverflow.comments`\n",
    "                        UNION ALL\n",
    "                        SELECT\n",
    "                            EXTRACT (YEAR FROM last_access_date) AS year,\n",
    "                            EXTRACT (MONTH FROM last_access_date) AS month,\n",
    "                            id AS owner_user_id\n",
    "                        FROM `bigquery-public-data.stackoverflow.users`\n",
    "                        \"\"\"\n",
    "    view = client.create_table(view)"
   ]
  },
  {
   "cell_type": "code",
   "execution_count": null,
   "id": "8191fb0c",
   "metadata": {},
   "outputs": [],
   "source": [
    "# exclusion of 2021 due to incomplete data.\n",
    "query = \"\"\"\n",
    "        Select\n",
    "            year,\n",
    "            month,\n",
    "            COUNT(DISTINCT owner_user_id) AS active_users\n",
    "        FROM `portfolio-331917.stored_views.active_users`\n",
    "        Where\n",
    "            year < 2021 -- no difference applying filter before or after agg\n",
    "        GROUP BY 1,2\n",
    "        ORDER BY 1,2;\n",
    "        \"\"\"\n",
    "\n",
    "result = getQueryAsDF(query)\n",
    "result.head()"
   ]
  },
  {
   "cell_type": "code",
   "execution_count": null,
   "id": "eb0ab2f2-6b69-4301-9dc9-e26e950c99f0",
   "metadata": {},
   "outputs": [],
   "source": [
    "result.describe()\n",
    "# average active users making comment, answer and question post overall is 205618.620000 a month."
   ]
  },
  {
   "cell_type": "code",
   "execution_count": null,
   "id": "12b667bd-7890-43f0-ba02-23acda5a8357",
   "metadata": {},
   "outputs": [],
   "source": [
    "query = \"\"\"\n",
    "        Select\n",
    "            month,\n",
    "            ROUND(COUNT(DISTINCT owner_user_id) / COUNT(DISTINCT CONCAT(year, month))) AS avg_mau\n",
    "        FROM `portfolio-331917.stored_views.active_users`\n",
    "        WHERE\n",
    "            year < 2021\n",
    "        GROUP BY 1\n",
    "        ORDER BY 1;\n",
    "        \"\"\"\n",
    "\n",
    "result = getQueryAsDF(query)\n",
    "result"
   ]
  },
  {
   "cell_type": "code",
   "execution_count": null,
   "id": "56dcf4ee-bd60-4088-8f81-bf9125596c9f",
   "metadata": {},
   "outputs": [],
   "source": [
    "sns.lineplot(data = result, x = 'month', y = 'avg_mau')\n",
    "plt.ylabel('average MAU')\n",
    "plt.title('Overall Average of MAU < 2021')"
   ]
  },
  {
   "cell_type": "markdown",
   "id": "e5cc6fe1-15c5-4e5e-bf8b-b6684074dea8",
   "metadata": {},
   "source": [
    "At a glance, this is a bimodal distribution with a right skew. \n",
    "\n",
    "Interestingly, from the 2 plots, average MAU peaks out in May, dips during the summer months and rebounds in October to November. College summer and winter breaks for might be a contributing factor. "
   ]
  },
  {
   "cell_type": "code",
   "execution_count": null,
   "id": "b868c13b-23ec-4eb3-8e2f-9e2e85d8ffae",
   "metadata": {},
   "outputs": [],
   "source": [
    "query = \"\"\"\n",
    "        WITH t1 AS\n",
    "        (\n",
    "            Select\n",
    "                month,\n",
    "                ROUND(COUNT(DISTINCT owner_user_id) / COUNT(DISTINCT CONCAT(year, month))) AS avg_mau\n",
    "            FROM `portfolio-331917.stored_views.active_users`\n",
    "            WHERE\n",
    "                year < 2021\n",
    "            GROUP BY 1\n",
    "            ORDER BY 1\n",
    "        ),\n",
    "        \n",
    "        t2 AS\n",
    "        (\n",
    "            Select\n",
    "                month,\n",
    "                COUNT(DISTINCT owner_user_id) as active_user_count,\n",
    "            FROM `portfolio-331917.stored_views.active_users`\n",
    "            WHERE\n",
    "                year = 2021\n",
    "            GROUP BY 1\n",
    "            ORDER BY 1\n",
    "        )\n",
    "        \n",
    "        SELECT\n",
    "            t1.month,\n",
    "            active_user_count,\n",
    "            avg_mau\n",
    "        FROM t1\n",
    "        INNER JOIN t2 ON t1.month = t2.month\n",
    "        ORDER BY 1;\n",
    "        \"\"\"\n",
    "\n",
    "result = getQueryAsDF(query)\n",
    "result"
   ]
  },
  {
   "cell_type": "markdown",
   "id": "81aed970-f784-49b4-98a0-d5b32256f2a5",
   "metadata": {},
   "source": [
    "Clearly, the raw MAU for 2021 is ~4-10x higher than the overal average. 2021 MAU might be an outlier in the overal population distribution. "
   ]
  }
 ],
 "metadata": {
  "kernelspec": {
   "display_name": "Python 3",
   "language": "python",
   "name": "python3"
  },
  "language_info": {
   "codemirror_mode": {
    "name": "ipython",
    "version": 3
   },
   "file_extension": ".py",
   "mimetype": "text/x-python",
   "name": "python",
   "nbconvert_exporter": "python",
   "pygments_lexer": "ipython3",
   "version": "3.8.8"
  }
 },
 "nbformat": 4,
 "nbformat_minor": 5
}
