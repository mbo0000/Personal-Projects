{
 "cells": [
  {
   "cell_type": "code",
   "execution_count": 1,
   "id": "937bc6b6",
   "metadata": {},
   "outputs": [],
   "source": [
    "import pandas as pd\n",
    "from pandas import DataFrame\n",
    "import os\n",
    "\n",
    "%load_ext google.cloud.bigquery"
   ]
  },
  {
   "cell_type": "code",
   "execution_count": 2,
   "id": "d8dab74b",
   "metadata": {},
   "outputs": [],
   "source": [
    "from google.cloud import bigquery\n",
    "\n",
    "credential_path = r'../../BQ_Keypath/portfolio-331917-9f920a11ce56.json'\n",
    "client = bigquery.Client.from_service_account_json(credential_path)\n",
    "\n",
    "# define helper functions\n",
    "def getQueryAsDF(query):\n",
    "    return client.query(query).result().to_dataframe()\n",
    "\n",
    "def getTableSchema(table):\n",
    "    return client.get_table(table).schema"
   ]
  },
  {
   "cell_type": "markdown",
   "id": "02f840a6",
   "metadata": {},
   "source": [
    "What are the total count for gold badges given and overal %?"
   ]
  },
  {
   "cell_type": "code",
   "execution_count": 3,
   "id": "2dff168c",
   "metadata": {},
   "outputs": [
    {
     "data": {
      "text/plain": [
       "[SchemaField('id', 'INTEGER', 'NULLABLE', None, (), None),\n",
       " SchemaField('name', 'STRING', 'NULLABLE', None, (), None),\n",
       " SchemaField('date', 'TIMESTAMP', 'NULLABLE', None, (), None),\n",
       " SchemaField('user_id', 'INTEGER', 'NULLABLE', None, (), None),\n",
       " SchemaField('class', 'INTEGER', 'NULLABLE', None, (), None),\n",
       " SchemaField('tag_based', 'BOOLEAN', 'NULLABLE', None, (), None)]"
      ]
     },
     "execution_count": 3,
     "metadata": {},
     "output_type": "execute_result"
    }
   ],
   "source": [
    "# first, let look at the badges table schema\n",
    "schema = getTableSchema(\"bigquery-public-data.stackoverflow.badges\")\n",
    "schema"
   ]
  },
  {
   "cell_type": "markdown",
   "id": "b877c93c",
   "metadata": {},
   "source": [
    "class field identifies badges type: 1 - gold, 2 - silver, 3 - bronze"
   ]
  },
  {
   "cell_type": "code",
   "execution_count": 4,
   "id": "25a44f51",
   "metadata": {},
   "outputs": [
    {
     "data": {
      "text/html": [
       "<div>\n",
       "<style scoped>\n",
       "    .dataframe tbody tr th:only-of-type {\n",
       "        vertical-align: middle;\n",
       "    }\n",
       "\n",
       "    .dataframe tbody tr th {\n",
       "        vertical-align: top;\n",
       "    }\n",
       "\n",
       "    .dataframe thead th {\n",
       "        text-align: right;\n",
       "    }\n",
       "</style>\n",
       "<table border=\"1\" class=\"dataframe\">\n",
       "  <thead>\n",
       "    <tr style=\"text-align: right;\">\n",
       "      <th></th>\n",
       "      <th>total_count</th>\n",
       "    </tr>\n",
       "  </thead>\n",
       "  <tbody>\n",
       "    <tr>\n",
       "      <th>0</th>\n",
       "      <td>1175600</td>\n",
       "    </tr>\n",
       "  </tbody>\n",
       "</table>\n",
       "</div>"
      ],
      "text/plain": [
       "   total_count\n",
       "0      1175600"
      ]
     },
     "execution_count": 4,
     "metadata": {},
     "output_type": "execute_result"
    }
   ],
   "source": [
    "# total count for gold badges earned\n",
    "query = \"\"\"\n",
    "        SELECT\n",
    "            COUNT(*) AS total_count\n",
    "        FROM `bigquery-public-data.stackoverflow.badges`\n",
    "        WHERE\n",
    "            class = 1;\n",
    "    \"\"\"\n",
    "\n",
    "result = getQueryAsDF(query)\n",
    "result"
   ]
  },
  {
   "cell_type": "code",
   "execution_count": 5,
   "id": "62746c3b",
   "metadata": {},
   "outputs": [
    {
     "data": {
      "text/html": [
       "<div>\n",
       "<style scoped>\n",
       "    .dataframe tbody tr th:only-of-type {\n",
       "        vertical-align: middle;\n",
       "    }\n",
       "\n",
       "    .dataframe tbody tr th {\n",
       "        vertical-align: top;\n",
       "    }\n",
       "\n",
       "    .dataframe thead th {\n",
       "        text-align: right;\n",
       "    }\n",
       "</style>\n",
       "<table border=\"1\" class=\"dataframe\">\n",
       "  <thead>\n",
       "    <tr style=\"text-align: right;\">\n",
       "      <th></th>\n",
       "      <th>gold_badge_users_perc</th>\n",
       "    </tr>\n",
       "  </thead>\n",
       "  <tbody>\n",
       "    <tr>\n",
       "      <th>0</th>\n",
       "      <td>6.4</td>\n",
       "    </tr>\n",
       "  </tbody>\n",
       "</table>\n",
       "</div>"
      ],
      "text/plain": [
       "   gold_badge_users_perc\n",
       "0                    6.4"
      ]
     },
     "execution_count": 5,
     "metadata": {},
     "output_type": "execute_result"
    }
   ],
   "source": [
    "# % of gold badge users vs non-gold badge users\n",
    "query = \"\"\"\n",
    "        SELECT \n",
    "            ROUND((SELECT COUNT(DISTINCT user_id) FROM `bigquery-public-data.stackoverflow.badges` WHERE class = 1)/COUNT(DISTINCT user_id), 3) * 100 AS gold_badge_users_perc\n",
    "        FROM `bigquery-public-data.stackoverflow.badges`\n",
    "    \"\"\"\n",
    "\n",
    "result = getQueryAsDF(query)\n",
    "result"
   ]
  },
  {
   "cell_type": "code",
   "execution_count": 6,
   "id": "36283c35",
   "metadata": {},
   "outputs": [
    {
     "data": {
      "text/html": [
       "<div>\n",
       "<style scoped>\n",
       "    .dataframe tbody tr th:only-of-type {\n",
       "        vertical-align: middle;\n",
       "    }\n",
       "\n",
       "    .dataframe tbody tr th {\n",
       "        vertical-align: top;\n",
       "    }\n",
       "\n",
       "    .dataframe thead th {\n",
       "        text-align: right;\n",
       "    }\n",
       "</style>\n",
       "<table border=\"1\" class=\"dataframe\">\n",
       "  <thead>\n",
       "    <tr style=\"text-align: right;\">\n",
       "      <th></th>\n",
       "      <th>total_perc</th>\n",
       "    </tr>\n",
       "  </thead>\n",
       "  <tbody>\n",
       "    <tr>\n",
       "      <th>0</th>\n",
       "      <td>2.8</td>\n",
       "    </tr>\n",
       "  </tbody>\n",
       "</table>\n",
       "</div>"
      ],
      "text/plain": [
       "   total_perc\n",
       "0         2.8"
      ]
     },
     "execution_count": 6,
     "metadata": {},
     "output_type": "execute_result"
    }
   ],
   "source": [
    "# % of gold badges earned overall\n",
    "query = \"\"\"\n",
    "        SELECT\n",
    "            ROUND(COUNT(*) /(SELECT COUNT(*) FROM `bigquery-public-data.stackoverflow.badges`), 3) * 100 AS total_perc\n",
    "        FROM `bigquery-public-data.stackoverflow.badges`\n",
    "        WHERE\n",
    "            class = 1;\n",
    "    \"\"\"\n",
    "\n",
    "result = getQueryAsDF(query)\n",
    "result"
   ]
  },
  {
   "cell_type": "markdown",
   "id": "1be37919",
   "metadata": {},
   "source": [
    "That is a really low % of badges given are gold. Which can indicate gold badges are tough to earn. \n",
    "\n",
    "For non-gold badge user like myself, I would like to know what are the top ten earned gold badges that I can aim for?"
   ]
  },
  {
   "cell_type": "code",
   "execution_count": 7,
   "id": "8deda252",
   "metadata": {},
   "outputs": [
    {
     "data": {
      "text/html": [
       "<div>\n",
       "<style scoped>\n",
       "    .dataframe tbody tr th:only-of-type {\n",
       "        vertical-align: middle;\n",
       "    }\n",
       "\n",
       "    .dataframe tbody tr th {\n",
       "        vertical-align: top;\n",
       "    }\n",
       "\n",
       "    .dataframe thead th {\n",
       "        text-align: right;\n",
       "    }\n",
       "</style>\n",
       "<table border=\"1\" class=\"dataframe\">\n",
       "  <thead>\n",
       "    <tr style=\"text-align: right;\">\n",
       "      <th></th>\n",
       "      <th>name</th>\n",
       "      <th>badge_total_count</th>\n",
       "    </tr>\n",
       "  </thead>\n",
       "  <tbody>\n",
       "    <tr>\n",
       "      <th>0</th>\n",
       "      <td>Famous Question</td>\n",
       "      <td>849358</td>\n",
       "    </tr>\n",
       "    <tr>\n",
       "      <th>1</th>\n",
       "      <td>Great Answer</td>\n",
       "      <td>98716</td>\n",
       "    </tr>\n",
       "    <tr>\n",
       "      <th>2</th>\n",
       "      <td>Great Question</td>\n",
       "      <td>46519</td>\n",
       "    </tr>\n",
       "    <tr>\n",
       "      <th>3</th>\n",
       "      <td>Fanatic</td>\n",
       "      <td>39568</td>\n",
       "    </tr>\n",
       "    <tr>\n",
       "      <th>4</th>\n",
       "      <td>Populist</td>\n",
       "      <td>25556</td>\n",
       "    </tr>\n",
       "    <tr>\n",
       "      <th>5</th>\n",
       "      <td>Unsung Hero</td>\n",
       "      <td>25468</td>\n",
       "    </tr>\n",
       "    <tr>\n",
       "      <th>6</th>\n",
       "      <td>Electorate</td>\n",
       "      <td>25369</td>\n",
       "    </tr>\n",
       "    <tr>\n",
       "      <th>7</th>\n",
       "      <td>Steward</td>\n",
       "      <td>21414</td>\n",
       "    </tr>\n",
       "    <tr>\n",
       "      <th>8</th>\n",
       "      <td>Publicist</td>\n",
       "      <td>9682</td>\n",
       "    </tr>\n",
       "    <tr>\n",
       "      <th>9</th>\n",
       "      <td>Stellar Question</td>\n",
       "      <td>9215</td>\n",
       "    </tr>\n",
       "  </tbody>\n",
       "</table>\n",
       "</div>"
      ],
      "text/plain": [
       "               name  badge_total_count\n",
       "0   Famous Question             849358\n",
       "1      Great Answer              98716\n",
       "2    Great Question              46519\n",
       "3           Fanatic              39568\n",
       "4          Populist              25556\n",
       "5       Unsung Hero              25468\n",
       "6        Electorate              25369\n",
       "7           Steward              21414\n",
       "8         Publicist               9682\n",
       "9  Stellar Question               9215"
      ]
     },
     "execution_count": 7,
     "metadata": {},
     "output_type": "execute_result"
    }
   ],
   "source": [
    "query = \"\"\"\n",
    "        SELECT \n",
    "            name,\n",
    "            COUNT(*) as badge_total_count\n",
    "        FROM `bigquery-public-data.stackoverflow.badges`\n",
    "        WHERE \n",
    "            class = 1\n",
    "        GROUP BY 1\n",
    "        ORDER BY badge_total_count DESC\n",
    "        LIMIT 10;\n",
    "    \"\"\"\n",
    "\n",
    "result = getQueryAsDF(query)\n",
    "result"
   ]
  },
  {
   "cell_type": "markdown",
   "id": "286199ac",
   "metadata": {},
   "source": [
    "There is approximately 12x jump from Great Answer badge to the Famous Question badge earned. Based on Stackoverflow docummentation, Famous Question is earned by having 10k+ views and can be earn multiple times. This resulted in a single user has multiple Famous Question badges and drive up the different in the jump. "
   ]
  },
  {
   "cell_type": "markdown",
   "id": "bbf40745",
   "metadata": {},
   "source": [
    "Ranking by tenure(by year joined), how many users earned gold badges based on the year? \n",
    "\n",
    "My hypothesis is the more tenure a user is, the more gold badges they will earn."
   ]
  },
  {
   "cell_type": "code",
   "execution_count": 8,
   "id": "0f4c8ed2",
   "metadata": {},
   "outputs": [
    {
     "data": {
      "text/plain": [
       "[SchemaField('id', 'INTEGER', 'NULLABLE', None, (), None),\n",
       " SchemaField('display_name', 'STRING', 'NULLABLE', None, (), None),\n",
       " SchemaField('about_me', 'STRING', 'NULLABLE', None, (), None),\n",
       " SchemaField('age', 'STRING', 'NULLABLE', None, (), None),\n",
       " SchemaField('creation_date', 'TIMESTAMP', 'NULLABLE', None, (), None),\n",
       " SchemaField('last_access_date', 'TIMESTAMP', 'NULLABLE', None, (), None),\n",
       " SchemaField('location', 'STRING', 'NULLABLE', None, (), None),\n",
       " SchemaField('reputation', 'INTEGER', 'NULLABLE', None, (), None),\n",
       " SchemaField('up_votes', 'INTEGER', 'NULLABLE', None, (), None),\n",
       " SchemaField('down_votes', 'INTEGER', 'NULLABLE', None, (), None),\n",
       " SchemaField('views', 'INTEGER', 'NULLABLE', None, (), None),\n",
       " SchemaField('profile_image_url', 'STRING', 'NULLABLE', None, (), None),\n",
       " SchemaField('website_url', 'STRING', 'NULLABLE', None, (), None)]"
      ]
     },
     "execution_count": 8,
     "metadata": {},
     "output_type": "execute_result"
    }
   ],
   "source": [
    "# we will be joining users table next. First, let look at its schema to see what are the field we will be using.\n",
    "schema = getTableSchema(\"bigquery-public-data.stackoverflow.users\")\n",
    "schema"
   ]
  },
  {
   "cell_type": "code",
   "execution_count": 7,
   "id": "fdbc38ae",
   "metadata": {},
   "outputs": [
    {
     "data": {
      "text/html": [
       "<div>\n",
       "<style scoped>\n",
       "    .dataframe tbody tr th:only-of-type {\n",
       "        vertical-align: middle;\n",
       "    }\n",
       "\n",
       "    .dataframe tbody tr th {\n",
       "        vertical-align: top;\n",
       "    }\n",
       "\n",
       "    .dataframe thead th {\n",
       "        text-align: right;\n",
       "    }\n",
       "</style>\n",
       "<table border=\"1\" class=\"dataframe\">\n",
       "  <thead>\n",
       "    <tr style=\"text-align: right;\">\n",
       "      <th></th>\n",
       "      <th>year_joined</th>\n",
       "      <th>gold_badge_user_count</th>\n",
       "    </tr>\n",
       "  </thead>\n",
       "  <tbody>\n",
       "    <tr>\n",
       "      <th>0</th>\n",
       "      <td>2012</td>\n",
       "      <td>76952</td>\n",
       "    </tr>\n",
       "    <tr>\n",
       "      <th>1</th>\n",
       "      <td>2013</td>\n",
       "      <td>72933</td>\n",
       "    </tr>\n",
       "    <tr>\n",
       "      <th>2</th>\n",
       "      <td>2011</td>\n",
       "      <td>70643</td>\n",
       "    </tr>\n",
       "    <tr>\n",
       "      <th>3</th>\n",
       "      <td>2010</td>\n",
       "      <td>48735</td>\n",
       "    </tr>\n",
       "    <tr>\n",
       "      <th>4</th>\n",
       "      <td>2014</td>\n",
       "      <td>48536</td>\n",
       "    </tr>\n",
       "    <tr>\n",
       "      <th>5</th>\n",
       "      <td>2015</td>\n",
       "      <td>37463</td>\n",
       "    </tr>\n",
       "    <tr>\n",
       "      <th>6</th>\n",
       "      <td>2009</td>\n",
       "      <td>32026</td>\n",
       "    </tr>\n",
       "    <tr>\n",
       "      <th>7</th>\n",
       "      <td>2016</td>\n",
       "      <td>28233</td>\n",
       "    </tr>\n",
       "    <tr>\n",
       "      <th>8</th>\n",
       "      <td>2017</td>\n",
       "      <td>18772</td>\n",
       "    </tr>\n",
       "    <tr>\n",
       "      <th>9</th>\n",
       "      <td>2008</td>\n",
       "      <td>13468</td>\n",
       "    </tr>\n",
       "  </tbody>\n",
       "</table>\n",
       "</div>"
      ],
      "text/plain": [
       "   year_joined  gold_badge_user_count\n",
       "0         2012                  76952\n",
       "1         2013                  72933\n",
       "2         2011                  70643\n",
       "3         2010                  48735\n",
       "4         2014                  48536\n",
       "5         2015                  37463\n",
       "6         2009                  32026\n",
       "7         2016                  28233\n",
       "8         2017                  18772\n",
       "9         2008                  13468"
      ]
     },
     "execution_count": 7,
     "metadata": {},
     "output_type": "execute_result"
    }
   ],
   "source": [
    "# we can join the user_id field from the badges table and id field from the users table\n",
    "query = \"\"\"\n",
    "        SELECT \n",
    "            EXTRACT (YEAR FROM creation_date) as year_joined,\n",
    "            COUNT(DISTINCT user_id) as gold_badge_user_count\n",
    "        FROM \n",
    "            `bigquery-public-data.stackoverflow.badges` AS badges\n",
    "            JOIN `bigquery-public-data.stackoverflow.users` AS users ON users.id = badges.user_id\n",
    "        WHERE \n",
    "            class = 1\n",
    "        GROUP BY 1\n",
    "        ORDER BY 2 DESC\n",
    "        LIMIT 10;\n",
    "    \"\"\"\n",
    "\n",
    "result = getQueryAsDF(query)\n",
    "result"
   ]
  },
  {
   "cell_type": "markdown",
   "id": "a82984a1",
   "metadata": {},
   "source": [
    "As shown in the result, users, who joined in 2011 - 2013, are the largest population with gold badge/s earned. Eventhough, 2008-2009 group has the most tenure, they are on the lower end of the table. This can be a correlation to when Stackoverflow was found(2008). Users population might be much smaller in size during the first couple of years after the platform launched. \n",
    "\n",
    "We can use a visual aid from Seaborn library to see the population size over the years."
   ]
  },
  {
   "cell_type": "code",
   "execution_count": 8,
   "id": "62c5a956",
   "metadata": {},
   "outputs": [
    {
     "data": {
      "text/plain": [
       "Text(0.5, 1.0, 'Gold Badge User Count by Year Joined')"
      ]
     },
     "execution_count": 8,
     "metadata": {},
     "output_type": "execute_result"
    },
    {
     "data": {
      "image/png": "[encoded data removed]",
      "text/plain": [
       "<Figure size 432x288 with 1 Axes>"
      ]
     },
     "metadata": {
      "needs_background": "light"
     },
     "output_type": "display_data"
    }
   ],
   "source": [
    "import seaborn as sns\n",
    "import matplotlib.pyplot as plt\n",
    "\n",
    "%matplotlib inline\n",
    "\n",
    "plot = sns.barplot(data = result, x = 'year_joined', y = 'gold_badge_user_count', color = 'cyan')\n",
    "plot.set_title('Gold Badge User Count by Year Joined')"
   ]
  },
  {
   "cell_type": "markdown",
   "id": "662a3468",
   "metadata": {},
   "source": [
    "Unintendedly, we have a normal distribution of gold badge users joined by year. Peak users count top out in 2012. From a business standpoint, it would be great to know what are the retention rate of the gold badge users vs general population in 2020. \n",
    "\n",
    "How many users are still active as of 2020? We will exclude 2021 since the complete data set is not yet available as of this time. \n",
    "- being active is defined by posting at least 1 question, comment or an answer.\n",
    "- To be included, user must signed up on or before 2019. \n",
    "- We also excluding last_access_date field from users table since we do not know whether a user is actively engage when logged in. "
   ]
  },
  {
   "cell_type": "code",
   "execution_count": 11,
   "id": "0cb49db8",
   "metadata": {},
   "outputs": [
    {
     "data": {
      "text/html": [
       "<div>\n",
       "<style scoped>\n",
       "    .dataframe tbody tr th:only-of-type {\n",
       "        vertical-align: middle;\n",
       "    }\n",
       "\n",
       "    .dataframe tbody tr th {\n",
       "        vertical-align: top;\n",
       "    }\n",
       "\n",
       "    .dataframe thead th {\n",
       "        text-align: right;\n",
       "    }\n",
       "</style>\n",
       "<table border=\"1\" class=\"dataframe\">\n",
       "  <thead>\n",
       "    <tr style=\"text-align: right;\">\n",
       "      <th></th>\n",
       "      <th>total_active</th>\n",
       "      <th>total_joined</th>\n",
       "      <th>retention_rate</th>\n",
       "    </tr>\n",
       "  </thead>\n",
       "  <tbody>\n",
       "    <tr>\n",
       "      <th>0</th>\n",
       "      <td>798881</td>\n",
       "      <td>11491305</td>\n",
       "      <td>7.0</td>\n",
       "    </tr>\n",
       "  </tbody>\n",
       "</table>\n",
       "</div>"
      ],
      "text/plain": [
       "   total_active  total_joined  retention_rate\n",
       "0        798881      11491305             7.0"
      ]
     },
     "execution_count": 11,
     "metadata": {},
     "output_type": "execute_result"
    }
   ],
   "source": [
    "query = \"\"\"\n",
    "        WITH \n",
    "        total_active_user AS \n",
    "        (\n",
    "            SELECT \n",
    "                COUNT(DISTINCT id) AS active_user,\n",
    "            FROM \n",
    "                `bigquery-public-data.stackoverflow.users`\n",
    "            WHERE \n",
    "                EXTRACT(YEAR FROM creation_date) <= 2019\n",
    "                AND (id IN (SELECT owner_user_id FROM `bigquery-public-data.stackoverflow.posts_questions` WHERE EXTRACT(YEAR FROM creation_date) = 2020)\n",
    "                OR id IN (SELECT owner_user_id FROM `bigquery-public-data.stackoverflow.posts_answers` WHERE EXTRACT(YEAR FROM creation_date) = 2020)\n",
    "                OR id IN (SELECT user_id FROM `bigquery-public-data.stackoverflow.comments` WHERE EXTRACT(YEAR FROM creation_date) = 2020))\n",
    "        ),\n",
    "\n",
    "        total_joined AS\n",
    "        (\n",
    "            SELECT \n",
    "                COUNT(id) AS user_count\n",
    "            FROM\n",
    "                `bigquery-public-data.stackoverflow.users`\n",
    "            WHERE\n",
    "                EXTRACT(YEAR FROM creation_date) <= 2019\n",
    "        )\n",
    "\n",
    "        SELECT \n",
    "            (SELECT active_user FROM total_active_user) AS total_active,\n",
    "            (SELECT user_count FROM total_joined) AS total_joined,\n",
    "            ROUND((SELECT active_user FROM total_active_user)/(SELECT user_count FROM total_joined), 3) * 100 AS retention_rate\n",
    "\n",
    "    \"\"\"\n",
    "\n",
    "result = getQueryAsDF(query)\n",
    "result"
   ]
  },
  {
   "cell_type": "markdown",
   "id": "9695ef16",
   "metadata": {},
   "source": [
    "We have an overall retention rate of 7% in 2020. Let break down by active/inactive and highest badge level earned."
   ]
  },
  {
   "cell_type": "code",
   "execution_count": 12,
   "id": "84977458",
   "metadata": {},
   "outputs": [
    {
     "data": {
      "text/html": [
       "<div>\n",
       "<style scoped>\n",
       "    .dataframe tbody tr th:only-of-type {\n",
       "        vertical-align: middle;\n",
       "    }\n",
       "\n",
       "    .dataframe tbody tr th {\n",
       "        vertical-align: top;\n",
       "    }\n",
       "\n",
       "    .dataframe thead th {\n",
       "        text-align: right;\n",
       "    }\n",
       "</style>\n",
       "<table border=\"1\" class=\"dataframe\">\n",
       "  <thead>\n",
       "    <tr style=\"text-align: right;\">\n",
       "      <th></th>\n",
       "      <th>class</th>\n",
       "      <th>is_active</th>\n",
       "      <th>total</th>\n",
       "    </tr>\n",
       "  </thead>\n",
       "  <tbody>\n",
       "    <tr>\n",
       "      <th>0</th>\n",
       "      <td>Bronze</td>\n",
       "      <td>0</td>\n",
       "      <td>13597067</td>\n",
       "    </tr>\n",
       "    <tr>\n",
       "      <th>1</th>\n",
       "      <td>Bronze</td>\n",
       "      <td>1</td>\n",
       "      <td>384164</td>\n",
       "    </tr>\n",
       "    <tr>\n",
       "      <th>2</th>\n",
       "      <td>Gold</td>\n",
       "      <td>0</td>\n",
       "      <td>307534</td>\n",
       "    </tr>\n",
       "    <tr>\n",
       "      <th>3</th>\n",
       "      <td>Gold</td>\n",
       "      <td>1</td>\n",
       "      <td>157530</td>\n",
       "    </tr>\n",
       "    <tr>\n",
       "      <th>4</th>\n",
       "      <td>Silver</td>\n",
       "      <td>0</td>\n",
       "      <td>835463</td>\n",
       "    </tr>\n",
       "    <tr>\n",
       "      <th>5</th>\n",
       "      <td>Silver</td>\n",
       "      <td>1</td>\n",
       "      <td>257187</td>\n",
       "    </tr>\n",
       "  </tbody>\n",
       "</table>\n",
       "</div>"
      ],
      "text/plain": [
       "    class  is_active     total\n",
       "0  Bronze          0  13597067\n",
       "1  Bronze          1    384164\n",
       "2    Gold          0    307534\n",
       "3    Gold          1    157530\n",
       "4  Silver          0    835463\n",
       "5  Silver          1    257187"
      ]
     },
     "execution_count": 12,
     "metadata": {},
     "output_type": "execute_result"
    }
   ],
   "source": [
    "query = \"\"\"\n",
    "        WITH active_users AS\n",
    "        (\n",
    "             SELECT \n",
    "                id\n",
    "            FROM \n",
    "                `bigquery-public-data.stackoverflow.users`\n",
    "            WHERE \n",
    "                EXTRACT(YEAR FROM creation_date) <= 2019\n",
    "                AND (id IN (SELECT owner_user_id FROM `bigquery-public-data.stackoverflow.posts_questions` WHERE EXTRACT(YEAR FROM creation_date) = 2020)\n",
    "                OR id IN (SELECT owner_user_id FROM `bigquery-public-data.stackoverflow.posts_answers` WHERE EXTRACT(YEAR FROM creation_date) = 2020)\n",
    "                OR id IN (SELECT user_id FROM `bigquery-public-data.stackoverflow.comments` WHERE EXTRACT(YEAR FROM creation_date) = 2020))\n",
    "        )\n",
    "\n",
    "        SELECT \n",
    "            CASE -- order here matter, gold -> silver -> bronze\n",
    "                WHEN id IN (SELECT user_id FROM `bigquery-public-data.stackoverflow.badges` WHERE class = 1)  THEN \"Gold\"\n",
    "                WHEN id IN (SELECT user_id FROM `bigquery-public-data.stackoverflow.badges` WHERE class = 2)  THEN \"Silver\"\n",
    "                ELSE \"Bronze\"\n",
    "            END AS class,\n",
    "            CASE\n",
    "                WHEN id IN (SELECT id FROM active_users) THEN 1\n",
    "                ELSE 0\n",
    "            END AS is_active,\n",
    "            COUNT(id) AS total\n",
    "        FROM `bigquery-public-data.stackoverflow.users`\n",
    "        GROUP BY 1,2\n",
    "        ORDER BY 1;\n",
    "    \"\"\"\n",
    "\n",
    "result = getQueryAsDF(query)\n",
    "result"
   ]
  },
  {
   "cell_type": "code",
   "execution_count": 13,
   "id": "67220186",
   "metadata": {},
   "outputs": [],
   "source": [
    "# re-organizing result\n",
    "data_dict = {\n",
    "    'class': result['class'].unique(),\n",
    "    'active': result[result['is_active'] == 1]['total'].values,\n",
    "    'total': result[result['is_active'] != 1]['total'].values\n",
    "}\n",
    "df = pd.DataFrame(data_dict)\n",
    "df['rr_perc'] = round(df['active']/(df['active'] + df['total']),3) * 100"
   ]
  },
  {
   "cell_type": "code",
   "execution_count": 14,
   "id": "cb0810a6",
   "metadata": {},
   "outputs": [
    {
     "data": {
      "text/html": [
       "<div>\n",
       "<style scoped>\n",
       "    .dataframe tbody tr th:only-of-type {\n",
       "        vertical-align: middle;\n",
       "    }\n",
       "\n",
       "    .dataframe tbody tr th {\n",
       "        vertical-align: top;\n",
       "    }\n",
       "\n",
       "    .dataframe thead th {\n",
       "        text-align: right;\n",
       "    }\n",
       "</style>\n",
       "<table border=\"1\" class=\"dataframe\">\n",
       "  <thead>\n",
       "    <tr style=\"text-align: right;\">\n",
       "      <th></th>\n",
       "      <th>class</th>\n",
       "      <th>active</th>\n",
       "      <th>total</th>\n",
       "      <th>rr_perc</th>\n",
       "    </tr>\n",
       "  </thead>\n",
       "  <tbody>\n",
       "    <tr>\n",
       "      <th>0</th>\n",
       "      <td>Bronze</td>\n",
       "      <td>384164</td>\n",
       "      <td>13597067</td>\n",
       "      <td>2.7</td>\n",
       "    </tr>\n",
       "    <tr>\n",
       "      <th>1</th>\n",
       "      <td>Gold</td>\n",
       "      <td>157530</td>\n",
       "      <td>307534</td>\n",
       "      <td>33.9</td>\n",
       "    </tr>\n",
       "    <tr>\n",
       "      <th>2</th>\n",
       "      <td>Silver</td>\n",
       "      <td>257187</td>\n",
       "      <td>835463</td>\n",
       "      <td>23.5</td>\n",
       "    </tr>\n",
       "  </tbody>\n",
       "</table>\n",
       "</div>"
      ],
      "text/plain": [
       "    class  active     total  rr_perc\n",
       "0  Bronze  384164  13597067      2.7\n",
       "1    Gold  157530    307534     33.9\n",
       "2  Silver  257187    835463     23.5"
      ]
     },
     "execution_count": 14,
     "metadata": {},
     "output_type": "execute_result"
    }
   ],
   "source": [
    "df"
   ]
  },
  {
   "cell_type": "markdown",
   "id": "25eb77f1",
   "metadata": {},
   "source": [
    "Even though Gold badge users group is the smallest group, they have the highest retention rate of 33.9% in 2020 compare to 2.7% of bronze group.\n",
    "\n",
    "For further analysis, we can see if there is a correlation between users tenure and number of badges earned among the active users."
   ]
  },
  {
   "cell_type": "code",
   "execution_count": 30,
   "id": "afeec091",
   "metadata": {},
   "outputs": [
    {
     "data": {
      "text/html": [
       "<div>\n",
       "<style scoped>\n",
       "    .dataframe tbody tr th:only-of-type {\n",
       "        vertical-align: middle;\n",
       "    }\n",
       "\n",
       "    .dataframe tbody tr th {\n",
       "        vertical-align: top;\n",
       "    }\n",
       "\n",
       "    .dataframe thead th {\n",
       "        text-align: right;\n",
       "    }\n",
       "</style>\n",
       "<table border=\"1\" class=\"dataframe\">\n",
       "  <thead>\n",
       "    <tr style=\"text-align: right;\">\n",
       "      <th></th>\n",
       "      <th>id</th>\n",
       "      <th>reputation</th>\n",
       "      <th>year_joined</th>\n",
       "      <th>num_badges</th>\n",
       "    </tr>\n",
       "  </thead>\n",
       "  <tbody>\n",
       "    <tr>\n",
       "      <th>418315</th>\n",
       "      <td>7946215</td>\n",
       "      <td>202</td>\n",
       "      <td>2017</td>\n",
       "      <td>7</td>\n",
       "    </tr>\n",
       "    <tr>\n",
       "      <th>91530</th>\n",
       "      <td>1337057</td>\n",
       "      <td>1828</td>\n",
       "      <td>2012</td>\n",
       "      <td>40</td>\n",
       "    </tr>\n",
       "    <tr>\n",
       "      <th>353455</th>\n",
       "      <td>1840473</td>\n",
       "      <td>155</td>\n",
       "      <td>2012</td>\n",
       "      <td>9</td>\n",
       "    </tr>\n",
       "    <tr>\n",
       "      <th>657930</th>\n",
       "      <td>11802748</td>\n",
       "      <td>3</td>\n",
       "      <td>2019</td>\n",
       "      <td>2</td>\n",
       "    </tr>\n",
       "    <tr>\n",
       "      <th>474267</th>\n",
       "      <td>10814749</td>\n",
       "      <td>33</td>\n",
       "      <td>2018</td>\n",
       "      <td>6</td>\n",
       "    </tr>\n",
       "    <tr>\n",
       "      <th>373299</th>\n",
       "      <td>7033337</td>\n",
       "      <td>121</td>\n",
       "      <td>2016</td>\n",
       "      <td>8</td>\n",
       "    </tr>\n",
       "    <tr>\n",
       "      <th>255869</th>\n",
       "      <td>5692163</td>\n",
       "      <td>131</td>\n",
       "      <td>2015</td>\n",
       "      <td>14</td>\n",
       "    </tr>\n",
       "    <tr>\n",
       "      <th>504570</th>\n",
       "      <td>9420920</td>\n",
       "      <td>55</td>\n",
       "      <td>2018</td>\n",
       "      <td>5</td>\n",
       "    </tr>\n",
       "    <tr>\n",
       "      <th>90367</th>\n",
       "      <td>1127200</td>\n",
       "      <td>1674</td>\n",
       "      <td>2012</td>\n",
       "      <td>40</td>\n",
       "    </tr>\n",
       "    <tr>\n",
       "      <th>451815</th>\n",
       "      <td>9971068</td>\n",
       "      <td>23</td>\n",
       "      <td>2018</td>\n",
       "      <td>6</td>\n",
       "    </tr>\n",
       "  </tbody>\n",
       "</table>\n",
       "</div>"
      ],
      "text/plain": [
       "              id  reputation  year_joined  num_badges\n",
       "418315   7946215         202         2017           7\n",
       "91530    1337057        1828         2012          40\n",
       "353455   1840473         155         2012           9\n",
       "657930  11802748           3         2019           2\n",
       "474267  10814749          33         2018           6\n",
       "373299   7033337         121         2016           8\n",
       "255869   5692163         131         2015          14\n",
       "504570   9420920          55         2018           5\n",
       "90367    1127200        1674         2012          40\n",
       "451815   9971068          23         2018           6"
      ]
     },
     "execution_count": 30,
     "metadata": {},
     "output_type": "execute_result"
    }
   ],
   "source": [
    "query = \"\"\"\n",
    "        WITH badge_earned AS\n",
    "        (\n",
    "            SELECT \n",
    "                user_id,\n",
    "                COUNT(id) AS num_badges \n",
    "            FROM `bigquery-public-data.stackoverflow.badges` \n",
    "            GROUP BY 1\n",
    "        ),\n",
    "\n",
    "        active_users AS\n",
    "        (\n",
    "            SELECT \n",
    "                id,\n",
    "                reputation,\n",
    "                creation_date\n",
    "            FROM \n",
    "                `bigquery-public-data.stackoverflow.users`\n",
    "            WHERE \n",
    "                EXTRACT(YEAR FROM creation_date) <= 2019\n",
    "                AND (id IN (SELECT owner_user_id FROM `bigquery-public-data.stackoverflow.posts_questions` WHERE EXTRACT(YEAR FROM creation_date) = 2020)\n",
    "                OR id IN (SELECT owner_user_id FROM `bigquery-public-data.stackoverflow.posts_answers` WHERE EXTRACT(YEAR FROM creation_date) = 2020)\n",
    "                OR id IN (SELECT user_id FROM `bigquery-public-data.stackoverflow.comments` WHERE EXTRACT(YEAR FROM creation_date) = 2020))\n",
    "        )\n",
    "\n",
    "        SELECT \n",
    "            id,\n",
    "            reputation,\n",
    "            EXTRACT(YEAR FROM creation_date) AS year_joined,\n",
    "            num_badges\n",
    "        FROM active_users AS users\n",
    "            JOIN badge_earned ON users.id = badge_earned.user_id\n",
    "        ORDER BY num_badges DESC;\n",
    "    \"\"\"\n",
    "\n",
    "result = getQueryAsDF(query)\n",
    "result.sample(10)"
   ]
  },
  {
   "cell_type": "code",
   "execution_count": 34,
   "id": "580c5d07",
   "metadata": {},
   "outputs": [
    {
     "data": {
      "text/html": [
       "<div>\n",
       "<style scoped>\n",
       "    .dataframe tbody tr th:only-of-type {\n",
       "        vertical-align: middle;\n",
       "    }\n",
       "\n",
       "    .dataframe tbody tr th {\n",
       "        vertical-align: top;\n",
       "    }\n",
       "\n",
       "    .dataframe thead th {\n",
       "        text-align: right;\n",
       "    }\n",
       "</style>\n",
       "<table border=\"1\" class=\"dataframe\">\n",
       "  <thead>\n",
       "    <tr style=\"text-align: right;\">\n",
       "      <th></th>\n",
       "      <th>reputation</th>\n",
       "      <th>year_joined</th>\n",
       "      <th>num_badges</th>\n",
       "    </tr>\n",
       "  </thead>\n",
       "  <tbody>\n",
       "    <tr>\n",
       "      <th>303980</th>\n",
       "      <td>315</td>\n",
       "      <td>2014</td>\n",
       "      <td>11</td>\n",
       "    </tr>\n",
       "    <tr>\n",
       "      <th>676855</th>\n",
       "      <td>131</td>\n",
       "      <td>2014</td>\n",
       "      <td>2</td>\n",
       "    </tr>\n",
       "    <tr>\n",
       "      <th>573629</th>\n",
       "      <td>47</td>\n",
       "      <td>2013</td>\n",
       "      <td>4</td>\n",
       "    </tr>\n",
       "    <tr>\n",
       "      <th>179603</th>\n",
       "      <td>14042</td>\n",
       "      <td>2008</td>\n",
       "      <td>21</td>\n",
       "    </tr>\n",
       "    <tr>\n",
       "      <th>115589</th>\n",
       "      <td>711</td>\n",
       "      <td>2009</td>\n",
       "      <td>33</td>\n",
       "    </tr>\n",
       "  </tbody>\n",
       "</table>\n",
       "</div>"
      ],
      "text/plain": [
       "        reputation  year_joined  num_badges\n",
       "303980         315         2014          11\n",
       "676855         131         2014           2\n",
       "573629          47         2013           4\n",
       "179603       14042         2008          21\n",
       "115589         711         2009          33"
      ]
     },
     "execution_count": 34,
     "metadata": {},
     "output_type": "execute_result"
    }
   ],
   "source": [
    "df = result.drop('id', axis = 1)\n",
    "df.sample(5)"
   ]
  },
  {
   "cell_type": "code",
   "execution_count": 40,
   "id": "21b157f5",
   "metadata": {},
   "outputs": [
    {
     "data": {
      "text/html": [
       "<div>\n",
       "<style scoped>\n",
       "    .dataframe tbody tr th:only-of-type {\n",
       "        vertical-align: middle;\n",
       "    }\n",
       "\n",
       "    .dataframe tbody tr th {\n",
       "        vertical-align: top;\n",
       "    }\n",
       "\n",
       "    .dataframe thead th {\n",
       "        text-align: right;\n",
       "    }\n",
       "</style>\n",
       "<table border=\"1\" class=\"dataframe\">\n",
       "  <thead>\n",
       "    <tr style=\"text-align: right;\">\n",
       "      <th></th>\n",
       "      <th>reputation</th>\n",
       "      <th>year_joined</th>\n",
       "      <th>num_badges</th>\n",
       "    </tr>\n",
       "  </thead>\n",
       "  <tbody>\n",
       "    <tr>\n",
       "      <th>reputation</th>\n",
       "      <td>1.000000</td>\n",
       "      <td>-0.176470</td>\n",
       "      <td>0.811418</td>\n",
       "    </tr>\n",
       "    <tr>\n",
       "      <th>year_joined</th>\n",
       "      <td>-0.176470</td>\n",
       "      <td>1.000000</td>\n",
       "      <td>-0.320405</td>\n",
       "    </tr>\n",
       "    <tr>\n",
       "      <th>num_badges</th>\n",
       "      <td>0.811418</td>\n",
       "      <td>-0.320405</td>\n",
       "      <td>1.000000</td>\n",
       "    </tr>\n",
       "  </tbody>\n",
       "</table>\n",
       "</div>"
      ],
      "text/plain": [
       "             reputation  year_joined  num_badges\n",
       "reputation     1.000000    -0.176470    0.811418\n",
       "year_joined   -0.176470     1.000000   -0.320405\n",
       "num_badges     0.811418    -0.320405    1.000000"
      ]
     },
     "execution_count": 40,
     "metadata": {},
     "output_type": "execute_result"
    }
   ],
   "source": [
    "corr = df.corr()\n",
    "corr"
   ]
  },
  {
   "cell_type": "code",
   "execution_count": 41,
   "id": "bfce9fbb",
   "metadata": {},
   "outputs": [
    {
     "data": {
      "text/plain": [
       "Text(0.5, 1.0, 'User Fields Correlation')"
      ]
     },
     "execution_count": 41,
     "metadata": {},
     "output_type": "execute_result"
    },
    {
     "data": {
      "image/png": "[encoded data removed]",
      "text/plain": [
       "<Figure size 432x288 with 2 Axes>"
      ]
     },
     "metadata": {
      "needs_background": "light"
     },
     "output_type": "display_data"
    }
   ],
   "source": [
    "sns.heatmap(data = corr, linewidths = 1)\n",
    "plt.title('User Fields Correlation')"
   ]
  },
  {
   "cell_type": "markdown",
   "id": "7e1bb726",
   "metadata": {},
   "source": [
    "This is an interesting find. Surprisingly, there is no correlation between tenure and number of badges earned. My assumption was the longer the tenure the more badges a user earned. However, there is a high correlation between reputation point and number of badges earned. \n",
    "\n",
    "Based on stacks overflow documentation, \"Reputation is a rough measurement of how much the community trusts you; it is earned by convincing your peers that you know what you’re talking about.\"\n",
    "\n",
    "Let explore another visualization by plotting number of badges earned and user reputation."
   ]
  },
  {
   "cell_type": "code",
   "execution_count": 48,
   "id": "6f5b1b5e",
   "metadata": {},
   "outputs": [
    {
     "data": {
      "text/plain": [
       "Text(0.5, 0, 'reputation x 1 million')"
      ]
     },
     "execution_count": 48,
     "metadata": {},
     "output_type": "execute_result"
    },
    {
     "data": {
      "image/png": "[encoded data removed]",
      "text/plain": [
       "<Figure size 432x288 with 1 Axes>"
      ]
     },
     "metadata": {
      "needs_background": "light"
     },
     "output_type": "display_data"
    }
   ],
   "source": [
    "sns.scatterplot(x = 'reputation', y = 'num_badges', data = result, hue = 'year_joined')\n",
    "plt.title('Badge Earned vs Reputation')\n",
    "plt.xlabel('reputation x 1 million')"
   ]
  },
  {
   "cell_type": "markdown",
   "id": "199bf5f7",
   "metadata": {},
   "source": [
    "Notice there is a single user, who joined in 2008, that earned 17500+ badges, 18542 badges to be exact. Maybe this person is a trophies collector. This is an outlier in the data as the next highest badges earned is 8601. On the other end, another outlier is a user with the 2nd highest reputation, joined in 2012, has a very low badges earned count(1198).\n",
    "\n",
    "Only a very small group of people have 800k+ of reputation and ~2.5k+ badges earned"
   ]
  }
 ],
 "metadata": {
  "kernelspec": {
   "display_name": "Python 3",
   "language": "python",
   "name": "python3"
  },
  "language_info": {
   "codemirror_mode": {
    "name": "ipython",
    "version": 3
   },
   "file_extension": ".py",
   "mimetype": "text/x-python",
   "name": "python",
   "nbconvert_exporter": "python",
   "pygments_lexer": "ipython3",
   "version": "3.8.8"
  }
 },
 "nbformat": 4,
 "nbformat_minor": 5
}
